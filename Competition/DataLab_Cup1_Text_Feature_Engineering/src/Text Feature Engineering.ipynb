{
 "cells": [
  {
   "cell_type": "markdown",
   "metadata": {},
   "source": [
    "## <center>DataLab Cup 1: Text Feature Engineering</center>"
   ]
  },
  {
   "cell_type": "markdown",
   "metadata": {},
   "source": [
    "#### - To import the libraries"
   ]
  },
  {
   "cell_type": "code",
   "execution_count": 1,
   "metadata": {},
   "outputs": [],
   "source": [
    "import pandas as pd\n",
    "import numpy as np"
   ]
  },
  {
   "cell_type": "markdown",
   "metadata": {},
   "source": [
    "#### 1. To load the datasets"
   ]
  },
  {
   "cell_type": "code",
   "execution_count": 2,
   "metadata": {},
   "outputs": [],
   "source": [
    "train_data = pd.read_csv('../dataset/train.csv')\n",
    "test_data  = pd.read_csv('../dataset/test.csv')\n"
   ]
  },
  {
   "cell_type": "code",
   "execution_count": 3,
   "metadata": {},
   "outputs": [
    {
     "data": {
      "text/html": [
       "<div>\n",
       "<style scoped>\n",
       "    .dataframe tbody tr th:only-of-type {\n",
       "        vertical-align: middle;\n",
       "    }\n",
       "\n",
       "    .dataframe tbody tr th {\n",
       "        vertical-align: top;\n",
       "    }\n",
       "\n",
       "    .dataframe thead th {\n",
       "        text-align: right;\n",
       "    }\n",
       "</style>\n",
       "<table border=\"1\" class=\"dataframe\">\n",
       "  <thead>\n",
       "    <tr style=\"text-align: right;\">\n",
       "      <th></th>\n",
       "      <th>Id</th>\n",
       "      <th>Popularity</th>\n",
       "      <th>Page content</th>\n",
       "    </tr>\n",
       "  </thead>\n",
       "  <tbody>\n",
       "    <tr>\n",
       "      <th>0</th>\n",
       "      <td>0</td>\n",
       "      <td>-1</td>\n",
       "      <td>&lt;html&gt;&lt;head&gt;&lt;div class=\"article-info\"&gt; &lt;span c...</td>\n",
       "    </tr>\n",
       "    <tr>\n",
       "      <th>1</th>\n",
       "      <td>1</td>\n",
       "      <td>1</td>\n",
       "      <td>&lt;html&gt;&lt;head&gt;&lt;div class=\"article-info\"&gt;&lt;span cl...</td>\n",
       "    </tr>\n",
       "    <tr>\n",
       "      <th>2</th>\n",
       "      <td>2</td>\n",
       "      <td>1</td>\n",
       "      <td>&lt;html&gt;&lt;head&gt;&lt;div class=\"article-info\"&gt;&lt;span cl...</td>\n",
       "    </tr>\n",
       "    <tr>\n",
       "      <th>3</th>\n",
       "      <td>3</td>\n",
       "      <td>-1</td>\n",
       "      <td>&lt;html&gt;&lt;head&gt;&lt;div class=\"article-info\"&gt;&lt;span cl...</td>\n",
       "    </tr>\n",
       "    <tr>\n",
       "      <th>4</th>\n",
       "      <td>4</td>\n",
       "      <td>-1</td>\n",
       "      <td>&lt;html&gt;&lt;head&gt;&lt;div class=\"article-info\"&gt;&lt;span cl...</td>\n",
       "    </tr>\n",
       "  </tbody>\n",
       "</table>\n",
       "</div>"
      ],
      "text/plain": [
       "   Id  Popularity                                       Page content\n",
       "0   0          -1  <html><head><div class=\"article-info\"> <span c...\n",
       "1   1           1  <html><head><div class=\"article-info\"><span cl...\n",
       "2   2           1  <html><head><div class=\"article-info\"><span cl...\n",
       "3   3          -1  <html><head><div class=\"article-info\"><span cl...\n",
       "4   4          -1  <html><head><div class=\"article-info\"><span cl..."
      ]
     },
     "execution_count": 3,
     "metadata": {},
     "output_type": "execute_result"
    }
   ],
   "source": [
    "train_data.head()"
   ]
  },
  {
   "cell_type": "markdown",
   "metadata": {},
   "source": [
    "#### 2. To extract the features from the dataset\n",
    "\n",
    "將一些我們想要用到的feature從dataset中提取出來。以下為提取的特徵:\n",
    "\n",
    "- title\n",
    "- time(year/month/day/hour/minute/second)\n",
    "- number of images (num_img)\n",
    "- number of videos (num_video)\n",
    "- author name\n",
    "- topic\n",
    "- channel"
   ]
  },
  {
   "cell_type": "code",
   "execution_count": 4,
   "metadata": {},
   "outputs": [
    {
     "data": {
      "text/plain": [
       "(\"nasa's grand challenge: stop asteroids from destroying earth\",\n",
       " 2013,\n",
       " 6,\n",
       " 19,\n",
       " 15,\n",
       " 4,\n",
       " 30,\n",
       " 1,\n",
       " 1,\n",
       " 'clara moskowitz',\n",
       " ['Asteroid', 'Asteroids', 'challenge', 'Earth', 'Space', 'U.S.', 'World'],\n",
       " 'world')"
      ]
     },
     "execution_count": 4,
     "metadata": {},
     "output_type": "execute_result"
    }
   ],
   "source": [
    "from bs4 import BeautifulSoup\n",
    "from datetime import datetime\n",
    "# to get the attribute of the 'title', 'year/month/day/hour/minute/second', 'num_img', 'num_video', 'author name', 'topic', 'channel'\n",
    "\n",
    "def preprocessor(text):\n",
    "    soup = BeautifulSoup(text, 'html.parser')\n",
    "\n",
    "    # 1. to find the 'title' (body > h1)\n",
    "    title = soup.find('h1').string.strip().lower()\n",
    "\n",
    "    # 2. to find time(body > div > span > time)\n",
    "    date_string = soup.find('time')['datetime'].strip().lower()\n",
    "    date = datetime.strptime(date_string, \"%a, %d %b %Y %H:%M:%S %z\")\n",
    "\n",
    "    year = date.year\n",
    "    month = date.month\n",
    "    day = date.day\n",
    "    hour = date.hour\n",
    "    minute = date.minute\n",
    "    second = date.second\n",
    "\n",
    "    \n",
    "\n",
    "    # 3. to find the number of images\n",
    "    num_img  = len(soup.find_all('img'))\n",
    "    \n",
    "\n",
    "    # 4. to find the number of videos\n",
    "    num_video = len(soup.find_all('img'))+len(soup.find_all('iframe'))\n",
    "    \n",
    "\n",
    "    # 5. to find the author name\n",
    "    article_info = soup.find('div', class_='article-info')\n",
    "    author = article_info.find('span', class_='author_name') or article_info.find('span', class_='byline basic')\n",
    "\n",
    "    if (author != None):\n",
    "        if (author.find('a') != None):\n",
    "            author = author.find('a')\n",
    "            author_name = author.get_text().lower()\n",
    "        else :\n",
    "            author_name = author.get_text().lower()\n",
    "    else :\n",
    "        author_name = 'not found'\n",
    "    \n",
    "    \n",
    "\n",
    "    # 6. to find the article topic\n",
    "    footer = soup.find('footer', class_='article-topics')\n",
    "    topics_text = footer.get_text().split(': ')[1]\n",
    "    topic = [topic.strip() for topic in topics_text.split(',')]\n",
    "\n",
    "    \n",
    "    # 7. to find the channel\n",
    "    channel = soup.find('article')['data-channel'].strip().lower()\n",
    "    \n",
    "    '''\n",
    "    print('title = ', title, type(title))\n",
    "    print('time = ', year, \"/\", month, \"/\",day, \" \",hour, \":\",minute, \":\",second, type(year))\n",
    "    print('number of images = ', num_img, type(num_img))\n",
    "    print('number of videos = ', num_video, type(num_video))\n",
    "    print('author_name = ', author_name, type(author_name))\n",
    "    print('topic = ', topic, type(topic))\n",
    "    print('channel = ', channel, type(channel))\n",
    "    '''\n",
    "    \n",
    "    # return title, year, month, day, hour, minute, second, num_img, num_video, author_name, topic, channel\n",
    "    return title, year, month, day\n",
    "\n",
    "preprocessor(train_data['Page content'][0])"
   ]
  },
  {
   "cell_type": "code",
   "execution_count": 30,
   "metadata": {},
   "outputs": [
    {
     "name": "stdout",
     "output_type": "stream",
     "text": [
      "Unexpected exception formatting exception. Falling back to standard exception\n"
     ]
    },
    {
     "name": "stderr",
     "output_type": "stream",
     "text": [
      "Traceback (most recent call last):\n",
      "  File \"/home/mfhsieh/miniconda3/envs/DL/lib/python3.11/site-packages/IPython/core/interactiveshell.py\", line 3526, in run_code\n",
      "    exec(code_obj, self.user_global_ns, self.user_ns)\n",
      "  File \"/tmp/ipykernel_567756/1488210424.py\", line 4, in <module>\n",
      "    feature_list.append(preprocessor(content))\n",
      "                        ^^^^^^^^^^^^^^^^^^^^^\n",
      "  File \"/tmp/ipykernel_567756/2158299371.py\", line 6, in preprocessor\n",
      "    soup = BeautifulSoup(text, 'html.parser')\n",
      "           ^^^^^^^^^^^^^^^^^^^^^^^^^^^^^^^^^^\n",
      "  File \"/home/mfhsieh/miniconda3/envs/DL/lib/python3.11/site-packages/bs4/__init__.py\", line 335, in __init__\n",
      "    self._feed()\n",
      "  File \"/home/mfhsieh/miniconda3/envs/DL/lib/python3.11/site-packages/bs4/__init__.py\", line 478, in _feed\n",
      "    self.builder.feed(self.markup)\n",
      "  File \"/home/mfhsieh/miniconda3/envs/DL/lib/python3.11/site-packages/bs4/builder/_htmlparser.py\", line 380, in feed\n",
      "    parser.feed(markup)\n",
      "  File \"/home/mfhsieh/miniconda3/envs/DL/lib/python3.11/html/parser.py\", line 110, in feed\n",
      "    self.goahead(0)\n",
      "  File \"/home/mfhsieh/miniconda3/envs/DL/lib/python3.11/html/parser.py\", line 170, in goahead\n",
      "    k = self.parse_starttag(i)\n",
      "        ^^^^^^^^^^^^^^^^^^^^^^\n",
      "  File \"/home/mfhsieh/miniconda3/envs/DL/lib/python3.11/html/parser.py\", line 337, in parse_starttag\n",
      "    self.handle_starttag(tag, attrs)\n",
      "  File \"/home/mfhsieh/miniconda3/envs/DL/lib/python3.11/site-packages/bs4/builder/_htmlparser.py\", line 137, in handle_starttag\n",
      "    tag = self.soup.handle_starttag(\n",
      "          ^^^^^^^^^^^^^^^^^^^^^^^^^^\n",
      "  File \"/home/mfhsieh/miniconda3/envs/DL/lib/python3.11/site-packages/bs4/__init__.py\", line 749, in handle_starttag\n",
      "    tag = self.element_classes.get(Tag, Tag)(\n",
      "          ^^^^^^^^^^^^^^^^^^^^^^^^^^^^^^^^^^^\n",
      "  File \"/home/mfhsieh/miniconda3/envs/DL/lib/python3.11/site-packages/bs4/element.py\", line 1262, in __init__\n",
      "    attrs = builder._replace_cdata_list_attribute_values(\n",
      "            ^^^^^^^^^^^^^^^^^^^^^^^^^^^^^^^^^^^^^^^^^^^^^\n",
      "  File \"/home/mfhsieh/miniconda3/envs/DL/lib/python3.11/site-packages/bs4/builder/__init__.py\", line -1, in _replace_cdata_list_attribute_values\n",
      "KeyboardInterrupt\n",
      "\n",
      "During handling of the above exception, another exception occurred:\n",
      "\n",
      "Traceback (most recent call last):\n",
      "  File \"/home/mfhsieh/miniconda3/envs/DL/lib/python3.11/site-packages/IPython/core/interactiveshell.py\", line 2120, in showtraceback\n",
      "    stb = self.InteractiveTB.structured_traceback(\n",
      "          ^^^^^^^^^^^^^^^^^^^^^^^^^^^^^^^^^^^^^^^^\n",
      "  File \"/home/mfhsieh/miniconda3/envs/DL/lib/python3.11/site-packages/IPython/core/ultratb.py\", line 1435, in structured_traceback\n",
      "    return FormattedTB.structured_traceback(\n",
      "           ^^^^^^^^^^^^^^^^^^^^^^^^^^^^^^^^^\n",
      "  File \"/home/mfhsieh/miniconda3/envs/DL/lib/python3.11/site-packages/IPython/core/ultratb.py\", line 1326, in structured_traceback\n",
      "    return VerboseTB.structured_traceback(\n",
      "           ^^^^^^^^^^^^^^^^^^^^^^^^^^^^^^^\n",
      "  File \"/home/mfhsieh/miniconda3/envs/DL/lib/python3.11/site-packages/IPython/core/ultratb.py\", line 1173, in structured_traceback\n",
      "    formatted_exception = self.format_exception_as_a_whole(etype, evalue, etb, number_of_lines_of_context,\n",
      "                          ^^^^^^^^^^^^^^^^^^^^^^^^^^^^^^^^^^^^^^^^^^^^^^^^^^^^^^^^^^^^^^^^^^^^^^^^^^^^^^^^\n",
      "  File \"/home/mfhsieh/miniconda3/envs/DL/lib/python3.11/site-packages/IPython/core/ultratb.py\", line 1088, in format_exception_as_a_whole\n",
      "    frames.append(self.format_record(record))\n",
      "                  ^^^^^^^^^^^^^^^^^^^^^^^^^^\n",
      "  File \"/home/mfhsieh/miniconda3/envs/DL/lib/python3.11/site-packages/IPython/core/ultratb.py\", line 970, in format_record\n",
      "    frame_info.lines, Colors, self.has_colors, lvals\n",
      "    ^^^^^^^^^^^^^^^^\n",
      "  File \"/home/mfhsieh/miniconda3/envs/DL/lib/python3.11/site-packages/IPython/core/ultratb.py\", line 792, in lines\n",
      "    return self._sd.lines\n",
      "           ^^^^^^^^^^^^^^\n",
      "  File \"/home/mfhsieh/miniconda3/envs/DL/lib/python3.11/site-packages/stack_data/utils.py\", line 144, in cached_property_wrapper\n",
      "    value = obj.__dict__[self.func.__name__] = self.func(obj)\n",
      "                                               ^^^^^^^^^^^^^^\n",
      "  File \"/home/mfhsieh/miniconda3/envs/DL/lib/python3.11/site-packages/stack_data/core.py\", line 734, in lines\n",
      "    pieces = self.included_pieces\n",
      "             ^^^^^^^^^^^^^^^^^^^^\n",
      "  File \"/home/mfhsieh/miniconda3/envs/DL/lib/python3.11/site-packages/stack_data/utils.py\", line 144, in cached_property_wrapper\n",
      "    value = obj.__dict__[self.func.__name__] = self.func(obj)\n",
      "                                               ^^^^^^^^^^^^^^\n",
      "  File \"/home/mfhsieh/miniconda3/envs/DL/lib/python3.11/site-packages/stack_data/core.py\", line 681, in included_pieces\n",
      "    pos = scope_pieces.index(self.executing_piece)\n",
      "                             ^^^^^^^^^^^^^^^^^^^^\n",
      "  File \"/home/mfhsieh/miniconda3/envs/DL/lib/python3.11/site-packages/stack_data/utils.py\", line 144, in cached_property_wrapper\n",
      "    value = obj.__dict__[self.func.__name__] = self.func(obj)\n",
      "                                               ^^^^^^^^^^^^^^\n",
      "  File \"/home/mfhsieh/miniconda3/envs/DL/lib/python3.11/site-packages/stack_data/core.py\", line 660, in executing_piece\n",
      "    return only(\n",
      "           ^^^^^\n",
      "  File \"/home/mfhsieh/miniconda3/envs/DL/lib/python3.11/site-packages/executing/executing.py\", line 190, in only\n",
      "    raise NotOneValueFound('Expected one value, found 0')\n",
      "executing.executing.NotOneValueFound: Expected one value, found 0\n"
     ]
    }
   ],
   "source": [
    "feature_list = []\n",
    "\n",
    "for content in (train_data['Page content']):\n",
    "    feature_list.append(preprocessor(content))\n",
    "\n",
    "df = pd.DataFrame(\n",
    "        feature_list, \n",
    "        columns=['title', 'year', 'month', 'day'])\n",
    "        #columns=['title', 'year', 'month', 'day', 'hour' ,'minute', 'second', 'num_imgs', 'num_video', 'author_name', 'topics', 'channel'])"
   ]
  },
  {
   "cell_type": "code",
   "execution_count": 6,
   "metadata": {},
   "outputs": [
    {
     "name": "stdout",
     "output_type": "stream",
     "text": [
      "27643\n",
      "27643\n",
      "27643\n",
      "27643\n",
      "27643\n",
      "27643\n",
      "<class 'pandas.core.frame.DataFrame'>\n",
      "<class 'pandas.core.series.Series'>\n"
     ]
    },
    {
     "data": {
      "text/html": [
       "<div>\n",
       "<style scoped>\n",
       "    .dataframe tbody tr th:only-of-type {\n",
       "        vertical-align: middle;\n",
       "    }\n",
       "\n",
       "    .dataframe tbody tr th {\n",
       "        vertical-align: top;\n",
       "    }\n",
       "\n",
       "    .dataframe thead th {\n",
       "        text-align: right;\n",
       "    }\n",
       "</style>\n",
       "<table border=\"1\" class=\"dataframe\">\n",
       "  <thead>\n",
       "    <tr style=\"text-align: right;\">\n",
       "      <th></th>\n",
       "      <th>title</th>\n",
       "      <th>year</th>\n",
       "      <th>month</th>\n",
       "      <th>day</th>\n",
       "      <th>hour</th>\n",
       "      <th>minute</th>\n",
       "      <th>second</th>\n",
       "      <th>num_imgs</th>\n",
       "      <th>num_video</th>\n",
       "      <th>author_name</th>\n",
       "      <th>topics</th>\n",
       "      <th>channel</th>\n",
       "    </tr>\n",
       "  </thead>\n",
       "  <tbody>\n",
       "    <tr>\n",
       "      <th>0</th>\n",
       "      <td>nasa's grand challenge: stop asteroids from de...</td>\n",
       "      <td>2013</td>\n",
       "      <td>6</td>\n",
       "      <td>19</td>\n",
       "      <td>15</td>\n",
       "      <td>4</td>\n",
       "      <td>30</td>\n",
       "      <td>1</td>\n",
       "      <td>1</td>\n",
       "      <td>clara moskowitz</td>\n",
       "      <td>[Asteroid, Asteroids, challenge, Earth, Space,...</td>\n",
       "      <td>world</td>\n",
       "    </tr>\n",
       "    <tr>\n",
       "      <th>1</th>\n",
       "      <td>google's new open source patent pledge: we won...</td>\n",
       "      <td>2013</td>\n",
       "      <td>3</td>\n",
       "      <td>28</td>\n",
       "      <td>17</td>\n",
       "      <td>40</td>\n",
       "      <td>55</td>\n",
       "      <td>2</td>\n",
       "      <td>2</td>\n",
       "      <td>christina warren</td>\n",
       "      <td>[Apps and Software, Google, open source, opn p...</td>\n",
       "      <td>tech</td>\n",
       "    </tr>\n",
       "    <tr>\n",
       "      <th>2</th>\n",
       "      <td>ballin': 2014 nfl draft picks get to choose th...</td>\n",
       "      <td>2014</td>\n",
       "      <td>5</td>\n",
       "      <td>7</td>\n",
       "      <td>19</td>\n",
       "      <td>15</td>\n",
       "      <td>20</td>\n",
       "      <td>2</td>\n",
       "      <td>27</td>\n",
       "      <td>sam laird</td>\n",
       "      <td>[Entertainment, NFL, NFL Draft, Sports, Televi...</td>\n",
       "      <td>entertainment</td>\n",
       "    </tr>\n",
       "    <tr>\n",
       "      <th>3</th>\n",
       "      <td>cameraperson fails deliver slapstick laughs</td>\n",
       "      <td>2013</td>\n",
       "      <td>10</td>\n",
       "      <td>11</td>\n",
       "      <td>2</td>\n",
       "      <td>26</td>\n",
       "      <td>50</td>\n",
       "      <td>1</td>\n",
       "      <td>22</td>\n",
       "      <td>sam laird</td>\n",
       "      <td>[Sports, Video, Videos, Watercooler]</td>\n",
       "      <td>watercooler</td>\n",
       "    </tr>\n",
       "    <tr>\n",
       "      <th>4</th>\n",
       "      <td>nfl star helps young fan prove friendship with...</td>\n",
       "      <td>2014</td>\n",
       "      <td>4</td>\n",
       "      <td>17</td>\n",
       "      <td>3</td>\n",
       "      <td>31</td>\n",
       "      <td>43</td>\n",
       "      <td>52</td>\n",
       "      <td>53</td>\n",
       "      <td>connor finnegan</td>\n",
       "      <td>[Entertainment, instagram, instagram video, NF...</td>\n",
       "      <td>entertainment</td>\n",
       "    </tr>\n",
       "  </tbody>\n",
       "</table>\n",
       "</div>"
      ],
      "text/plain": [
       "                                               title  year  month  day  hour  \\\n",
       "0  nasa's grand challenge: stop asteroids from de...  2013      6   19    15   \n",
       "1  google's new open source patent pledge: we won...  2013      3   28    17   \n",
       "2  ballin': 2014 nfl draft picks get to choose th...  2014      5    7    19   \n",
       "3        cameraperson fails deliver slapstick laughs  2013     10   11     2   \n",
       "4  nfl star helps young fan prove friendship with...  2014      4   17     3   \n",
       "\n",
       "   minute  second  num_imgs  num_video       author_name  \\\n",
       "0       4      30         1          1   clara moskowitz   \n",
       "1      40      55         2          2  christina warren   \n",
       "2      15      20         2         27         sam laird   \n",
       "3      26      50         1         22         sam laird   \n",
       "4      31      43        52         53   connor finnegan   \n",
       "\n",
       "                                              topics        channel  \n",
       "0  [Asteroid, Asteroids, challenge, Earth, Space,...          world  \n",
       "1  [Apps and Software, Google, open source, opn p...           tech  \n",
       "2  [Entertainment, NFL, NFL Draft, Sports, Televi...  entertainment  \n",
       "3               [Sports, Video, Videos, Watercooler]    watercooler  \n",
       "4  [Entertainment, instagram, instagram video, NF...  entertainment  "
      ]
     },
     "execution_count": 6,
     "metadata": {},
     "output_type": "execute_result"
    }
   ],
   "source": [
    "print(df['title'].shape[0])\n",
    "print(df['year'].shape[0])\n",
    "print(df['minute'].shape[0])\n",
    "print(df['topics'].shape[0])\n",
    "print(df['author_name'].shape[0])\n",
    "print(df['channel'].shape[0])\n",
    "print(type(df))\n",
    "print(type(df['title']))\n",
    "df.head()"
   ]
  },
  {
   "cell_type": "markdown",
   "metadata": {},
   "source": [
    "### 3-1 . Preprocessing - tokenization\n",
    "\n",
    "To split the text corpora into individual elements"
   ]
  },
  {
   "cell_type": "code",
   "execution_count": 7,
   "metadata": {},
   "outputs": [],
   "source": [
    "import re\n",
    "\n",
    "def tokenizer(text):\n",
    "    return re.split('\\s+', text.strip())"
   ]
  },
  {
   "cell_type": "markdown",
   "metadata": {},
   "source": [
    "### 3-2 . Preprocessing - Word Stemming\n",
    "\n",
    "There are two ways of word stemming\n",
    "\n",
    "1. PorterStemmer(Stemming): break the word in rule-besed way, which will lead to the probelm of overstemming\n",
    "\n",
    "2. WordNetLemmatizer(Lemmatization): Stem the words will better performance, while time-consuming\n"
   ]
  },
  {
   "cell_type": "code",
   "execution_count": 8,
   "metadata": {},
   "outputs": [
    {
     "name": "stdout",
     "output_type": "stream",
     "text": [
      "['university,', 'universal,', 'university']\n"
     ]
    }
   ],
   "source": [
    "import nltk\n",
    "from nltk.stem import WordNetLemmatizer\n",
    "\n",
    "# nltk.download('wordnet')\n",
    "# nltk.download('omw-1.4')\n",
    "\n",
    "def word_stemming(text):\n",
    "    if type(text) == np.ndarray:\n",
    "        text = text[0]\n",
    "    lm = WordNetLemmatizer()\n",
    "    words = re.split('\\s', text.strip())\n",
    "    lemmatized_words = [lm.lemmatize(word) for word in words]\n",
    "    return lemmatized_words\n",
    "\n",
    "print(word_stemming('university, universal, universities'))"
   ]
  },
  {
   "cell_type": "code",
   "execution_count": 9,
   "metadata": {},
   "outputs": [
    {
     "name": "stdout",
     "output_type": "stream",
     "text": [
      "['university,', 'universal,', 'univers']\n"
     ]
    }
   ],
   "source": [
    "from nltk.stem.porter import PorterStemmer\n",
    "\n",
    "def tokenizer_stem(text):\n",
    "    porter = PorterStemmer()\n",
    "    return [porter.stem(word) for word in re.split('\\s+', text.strip())]\n",
    "\n",
    "print(tokenizer_stem('university, universal, universities'))"
   ]
  },
  {
   "cell_type": "markdown",
   "metadata": {},
   "source": [
    "### 3-3 Preprocessing - Stop-Word Removal\n",
    "\n",
    "儘管刪除停用詞在某些情況下（例如 BoW 和特徵哈希）可以有益於簡化表示，並可能提高文字分析的準確性，但並不總是必要，特別是在使用 TF-IDF 時。是否刪除停用詞應基於文本分析任務的具體要求以及資料集的特性來進行決策"
   ]
  },
  {
   "cell_type": "code",
   "execution_count": 10,
   "metadata": {},
   "outputs": [],
   "source": [
    "def stop_word_removal(text):\n",
    "    return"
   ]
  },
  {
   "cell_type": "markdown",
   "metadata": {},
   "source": [
    "#### 3-4 Create TF-IDF feature representation ([ref](https://scikit-learn.org/stable/modules/generated/sklearn.feature_extraction.text.TfidfVectorizer.html))"
   ]
  },
  {
   "cell_type": "code",
   "execution_count": 19,
   "metadata": {},
   "outputs": [],
   "source": [
    "from sklearn.feature_extraction.text import TfidfVectorizer\n",
    "from sklearn.compose import ColumnTransformer\n",
    "\n",
    "text_transformer = ColumnTransformer(\n",
    "    [\n",
    "        ('title preprocess', TfidfVectorizer(tokenizer=word_stemming, ngram_range=(1,1), lowercase=False), [0])            # to process the title paragraph\n",
    "    ],\n",
    "    remainder='passthrough', # do not touch the remaining data\n",
    "    n_jobs=-1\n",
    ")\n"
   ]
  },
  {
   "cell_type": "code",
   "execution_count": 20,
   "metadata": {},
   "outputs": [
    {
     "name": "stdout",
     "output_type": "stream",
     "text": [
      "[vocabularies with smallest idf scores]\n",
      "to: 2.53\n",
      "the: 2.56\n",
      "in: 2.96\n",
      "a: 3.04\n",
      "of: 3.06\n",
      "for: 3.11\n",
      "and: 3.44\n",
      "is: 3.50\n",
      "on: 3.53\n",
      "your: 3.62\n",
      "\n",
      "[vocabularies with highest tf-idf scores]\n",
      "the: 815.311294761899\n",
      "to: 779.2825126570024\n",
      "a: 560.246222897993\n",
      "in: 554.0700384430594\n",
      "of: 530.6444224763436\n",
      "for: 516.0574390632206\n",
      "and: 393.9149074133082\n",
      "is: 386.79499423625896\n",
      "your: 381.58405078926234\n",
      "you: 380.68545839235753\n"
     ]
    }
   ],
   "source": [
    "tfidf = TfidfVectorizer(tokenizer=word_stemming, ngram_range=(1,1), lowercase=False)\n",
    "tfidf.fit(df['title'])\n",
    "top = 10\n",
    "# get idf score of vocabularies\n",
    "idf = tfidf.idf_\n",
    "print('[vocabularies with smallest idf scores]')\n",
    "sorted_idx = idf.argsort()\n",
    "\n",
    "for i in range(top):\n",
    "    print('%s: %.2f' %(tfidf.get_feature_names_out()[sorted_idx[i]], idf[sorted_idx[i]]))\n",
    "\n",
    "doc_tfidf = tfidf.transform(df['title']).toarray()\n",
    "tfidf_sum = np.sum(doc_tfidf, axis=0)\n",
    "print(\"\\n[vocabularies with highest tf-idf scores]\")\n",
    "for tok, v in zip(tfidf.inverse_transform(np.ones((1, tfidf_sum.shape[0])))[0][tfidf_sum.argsort()[::-1]][:top], \\\n",
    "                        np.sort(tfidf_sum)[::-1][:top]):\n",
    "    print('{}: {}'.format(tok, v))\n"
   ]
  },
  {
   "cell_type": "markdown",
   "metadata": {},
   "source": [
    "### 4. Model training\n",
    "\n",
    "- XGBoost\n",
    "\n",
    "- LightGBM\n",
    "\n",
    "- CatBoost"
   ]
  },
  {
   "cell_type": "markdown",
   "metadata": {},
   "source": [
    "#### - To split the dataset "
   ]
  },
  {
   "cell_type": "code",
   "execution_count": 27,
   "metadata": {},
   "outputs": [
    {
     "name": "stdout",
     "output_type": "stream",
     "text": [
      "(27643, 12)\n",
      "<class 'numpy.ndarray'>\n",
      "[[\"nasa's grand challenge: stop asteroids from destroying earth\" 2013 6\n",
      "  ... 'clara moskowitz'\n",
      "  list(['Asteroid', 'Asteroids', 'challenge', 'Earth', 'Space', 'U.S.', 'World'])\n",
      "  'world']\n",
      " [\"google's new open source patent pledge: we won't sue unless attacked first\"\n",
      "  2013 3 ... 'christina warren'\n",
      "  list(['Apps and Software', 'Google', 'open source', 'opn pledge', 'patent lawsuit theater', 'software patents', 'Tech', 'U.S.'])\n",
      "  'tech']\n",
      " [\"ballin': 2014 nfl draft picks get to choose their own walk-out music\"\n",
      "  2014 5 ... 'sam laird'\n",
      "  list(['Entertainment', 'NFL', 'NFL Draft', 'Sports', 'Television'])\n",
      "  'entertainment']\n",
      " ...\n",
      " ['14 dogs that frankly cannot take the heat' 2014 7 ...\n",
      "  'christine erickson'\n",
      "  list(['Food', 'hot dogs', 'humor', 'Photography', 'Watercooler'])\n",
      "  'watercooler']\n",
      " ['yahoo earnings beat estimates, but core problems remain' 2013 4 ...\n",
      "  'seth fiegerman'\n",
      "  list(['Business', 'marissa mayer', 'Media', 'stocks', 'Yahoo'])\n",
      "  'business']\n",
      " ['the winners of our #curiocity contest tour austin’s tech scene' 2014\n",
      "  10 ... 'megan ranney'\n",
      "  list(['austin', 'Business', 'CurioCity', 'Small Business', 'Startups'])\n",
      "  'small-business']]\n",
      "(27643, 1, 3)\n",
      "[[[0 0\n",
      "   '<html><head><div class=\"article-info\"> <span class=\"byline basic\">Clara Moskowitz</span> for <a href=\"/publishers/space-com/\">Space.com</a> <time datetime=\"Wed, 19 Jun 2013 15:04:30 +0000\">2013-06-19 15:04:30 UTC</time> </div></head><body><h1 class=\"title\">NASA\\'s Grand Challenge: Stop Asteroids From Destroying Earth</h1><figure class=\"article-image\"><img class=\"microcontent\" data-fragment=\"lead-image\" data-image=\"http://i.amz.mshcdn.com/I7b9cUsPSztew7r1WT6_iBLjflo=/950x534/2013%2F06%2F19%2Ffe%2FDactyl.44419.jpg\" data-micro=\"1\" data-url=\"http://mashable.com/2013/06/19/nasa-grand-challenge-asteroid/\" src=\"http://i.amz.mshcdn.com/I7b9cUsPSztew7r1WT6_iBLjflo=/950x534/2013%2F06%2F19%2Ffe%2FDactyl.44419.jpg\"/></figure><article data-channel=\"world\"><section class=\"article-content\"> <p>There may be killer asteroids headed for Earth, and NASA has decided to do something about it. The space agency announced a new \"Grand Challenge\" on June 18 to find all dangerous space rocks and figure out how to stop them from destroying our planet.</p> <p>The new mission builds on projects already underway at NASA, including a plan to <a href=\"http://www.space.com/20591-nasa-asteroid-capture-mission-feasibility.html\" target=\"_blank\">capture an asteroid</a>, pull it in toward the moon and send astronauts to visit it. As part of the Grand Challenge, the agency issued a \"request for information\" today — aiming to solicit ideas from industry, academia and the public on how to improve the asteroid mission plan.</p> <p>\"We\\'re asking for you to think about concepts and different approaches for what we\\'ve described here,\" William Gerstenmaier, NASA\\'s associate administrator for human explorations and operations, said yesterday during a NASA event announcing the initiative. \"We want you to think about other ways of enhancing this to get the most out of it.\"</p> <p><divclass><strong>SEE ALSO: <a href=\"http://www.space.com/20606-nasa-asteroid-capture-mission-images.html\" target=\"_blank\">How It Works: NASA Asteroid-Capture</a></strong><br><br>Responses to the request for information, which also seeks ideas for detecting and mitigating asteroid threats, are due July 18.<br><br>The asteroid-retrieval mission, designed to provide the first deep-space mission for astronauts flying on NASA\\'s Space Launch System rocket and Orion space capsule under development, has come under fire from lawmakers who would prefer that NASA return to the moon.<br><br>A <a href=\"http://www.space.com/21609-nasa-asteroid-capture-mission-congress.html\" target=\"_blank\">draft NASA authorization bill</a> from the House space subcommittee, which is currently in debate, would cancel the mission and steer the agency toward other projects. That bill will be discussed during a hearing Wednesday, June 19 at 10 a.m. EDT.<br><br><divclass><strong>SEE ALSO: <a href=\"http://www.space.com/20606-nasa-asteroid-capture-mission-images.html\" target=\"_blank\">How It Works: NASA Asteroid-Capture Mission in Pictures</a></strong><br><br>But NASA officials defended the asteroid mission today and said they were confident they\\'d win Congress\\' support once they explained its benefits further.<br><br>\"I think that we really, truly are going to be able to show the value of the mission,\" NASA Associate Administrator Lori Garver said today. \"To me, this is something that what we do in this country — we debate how we spend the public\\'s money. This is the beginning of the debate.\"<br><br>Garver also maintained that sending astronauts to an asteroid would not diminish NASA\\'s other science and exploration goals, including another lunar landing.<br><br><divclass><strong>SEE ALSO: <a href=\"http://www.space.com/20601-animation-of-proposed-asteroid-retrieval-mission-video.html\" target=\"_blank\">Animation Of Proposed Asteroid Retrieval Mission</a></strong><br><br>\"This initiative takes nothing from the other valuable work,\" she said. \"This is only a small piece of our overall strategy, but it is an integral piece. It takes nothing from the moon.\"<br><br>Part of NASA\\'s plan to win support for the flight is to link it more closely with the larger goal of protecting Earth from asteroid threats.<br><br>If, someday, humanity discovers an asteroid headed for Earth and manages to alter its course, \"it will be one of the most important accomplishments in human history,\" said Tom Kalil, deputy director for technology and innovation at the White House Office of Science and Technology Policy.<br><br><divclass><strong>SEE ALSO: <a href=\"http://www.space.com/20006-deep-space-missions-private-companies.html\" target=\"_blank\">Wildest Private Deep-Space Mission Ideas: A Countdown</a></strong><br><br>The topic of asteroid threats is more timely than ever, after a meteor exploded over the Russian city of <a href=\"http://www.space.com/19823-russia-meteor-explosion-complete-coverage.html\" target=\"_blank\">Chelyabinsk</a> on Feb. 15 — the same day that the football field-sized <a href=\"http://www.space.com/19646-asteroid-2012-da14-earth-flyby-complete-coverage.html\" target=\"_blank\">asteroid 2012 DA14</a> passed within the moon\\'s orbit of Earth.<br><br><em>Image courtesy of <a href=\"http://www.dvidshub.net/image/707596/ida-and-dactyl#.UcHDQvk4uSo\" target=\"_blank\">NASA</a></em></br></br></br></br></divclass></br></br></br></br></br></br></br></br></divclass></br></br></br></br></br></br></br></br></divclass></br></br></br></br></br></br></br></br></divclass></p> <ul> <li><a href=\"http://www.space.com/34406-spacexs-musk-says-sabotage-unlikely-cause-of-sept-1-explosion-but-still-a-worry.html\">SpaceX\\'s Musk Says Sabotage Unlikely Cause of Sept. 1 Explosion, But Still a Worry</a></li> <li><a href=\"http://www.space.com/34405-proxima-centauri-starspots-stellar-cycle-habitable-planet-alien-life.html\">Proxima Centauri Is Like Our Sun... on Steroids</a></li> <li><a href=\"http://www.space.com/34404-china-launches-shenzhou-11-astronauts-to-space-lab.html\">China Launches Shenzhou-11 Astronauts to Tiangong-2 Space Lab</a></li> <li><a href=\"http://www.space.com/34403-space-station-mockup-in-houston-astronaut-guided-tour-video.html\">Space Station Mockup In Houston - Astronaut Guided Tour | Video</a></li> </ul> <p> This article originally published at Space.com <a href=\"http://www.space.com/21610-nasa-asteroid-threat-grand-challenge.html?\">here</a> </p> </section></article><footer class=\"article-topics\"> Topics: <a href=\"/category/asteroid/\">Asteroid</a>, <a href=\"/category/asteroids/\">Asteroids</a>, <a href=\"/category/challenge/\">challenge</a>, <a href=\"/category/earth/\">Earth</a>, <a href=\"/category/space/\">Space</a>, <a href=\"/category/us/\">U.S.</a>, <a href=\"/category/world/\">World</a> </footer></body></html>']]\n",
      "\n",
      " [[1 1\n",
      "   '<html><head><div class=\"article-info\"><span class=\"byline \"><a href=\"/author/christina/\"><img alt=\"2016%2f06%2f28%2fa2%2fhttpsd2mhye01h4nj2n.cloudfront.netmediazgkymde1lza0.6e864\" class=\"author_image\" src=\"http://i.amz.mshcdn.com/EOF74clpv5lKQmem8EbdqygnSIA=/90x90/2016%2F06%2F28%2Fa2%2Fhttpsd2mhye01h4nj2n.cloudfront.netmediaZgkyMDE1LzA0.6e864.jpg\"/></a><span class=\"author_name\">By <a href=\"/author/christina/\">Christina Warren</a></span><time datetime=\"Thu, 28 Mar 2013 17:40:55 +0000\">2013-03-28 17:40:55 UTC</time></span></div></head><body><h1 class=\"title\">Google\\'s New Open Source Patent Pledge: We Won\\'t Sue Unless Attacked First</h1><figure class=\"article-image\"><img class=\"microcontent\" data-fragment=\"lead-image\" data-image=\"http://i.amz.mshcdn.com/libxaUsE6Ziezz1FVi_31dND9gs=/950x534/2013%2F03%2F28%2Fd6%2Fpatentmagni.f1555.jpg\" data-micro=\"1\" data-url=\"null\" src=\"http://i.amz.mshcdn.com/libxaUsE6Ziezz1FVi_31dND9gs=/950x534/2013%2F03%2F28%2Fd6%2Fpatentmagni.f1555.jpg\"/></figure><article data-channel=\"tech\"><section class=\"article-content\"> <p>Google took a stand of sorts against <a href=\"http://mashable.com/category/patent-lawsuit-theater/\">patent-lawsuit theater</a> Thursday with its new <a href=\"http://www.google.com/patents/opnpledge/\" target=\"_blank\">Open Patent Non-Assertion (OPN) Pledge</a>. </p> <p>As <a href=\"http://google-opensource.blogspot.co.uk/2013/03/taking-stand-on-open-source-and-patents.html\" target=\"_blank\">explained by Google\\'s Duane Valz</a>, under the OPN Pledge, Google promises \"not to sue any user, distributor or developer of open-source software on specified patents, unless first attacked.\"</p> <p>Now, Google isn\\'t making all of its patents available for others. Instead, its starting small with <a href=\"http://www.google.com/patents/opnpledge/patents/\" target=\"_blank\">10 patents</a> focused on MapReduce, a programming model for handling large data sets. There are already open-sourced versions of MapReduce available — including Hadoop — that are widely used across the Internet. Google says that over time, it plans to extend the OPN Pledge to more Google patents.</p> <p><strong><div class=\"see-also\">SEE ALSO: <a href=\"http://mashable.com/2013/03/27/google-glass-announces-winners/\">10 Interesting Google Glass Winners and Their Wacky Ideas</a> </div></strong></p> <p>The big caveat here is that Google is pledging not to sue anyone who uses its MapReduce patents for Free or Open Source Software. Google is <a href=\"http://www.google.com/patents/opnpledge/pledge/\" target=\"_blank\">defining Free or Open Source software</a> as any software that meets the Open Source Initiative\\'s \"Open Source Definition,\" as well as any version of the Free Software Foundation\\'s \"Free Software Definition.\" Still, Google iterates that the OPN Pledge isn\\'t limited to a specific project or open-source copyright — as long as the project meets the FSF or OSI\\'s definition for Free Software or Open Source Software, it\\'s protected by the OPN Pledge.</p> <p>Google hopes that its OPN Pledge can be a model for other companies who are looking at how to \"put their own patents into the service of open-source software.\"</p> <p>In the short-term, we\\'re not sure what this does — except indemnify the open source MapReduce projects from a Google lawsuit. The bigger picture, however, is that this could be a new model for the way that patents are applied to open source as a whole. And that\\'s a good thing.</p> <p><em>Image courtesy of <a href=\"http://www.istockphoto.com/mashableoffer.php\" target=\"_blank\">iStockphoto</a>, <a href=\"http://www.istockphoto.com/user_view.php?id=3135499\" target=\"_blank\">stuartbur</a></em></p> </section></article><footer class=\"article-topics\"> Topics: <a href=\"/category/apps-software/\">Apps and Software</a>, <a href=\"/category/google/\">Google</a>, <a href=\"/category/open-source/\">open source</a>, <a href=\"/category/opn-pledge/\">opn pledge</a>, <a href=\"/category/patent-lawsuit-theater/\">patent lawsuit theater</a>, <a href=\"/category/software-patents/\">software patents</a>, <a href=\"/category/tech/\">Tech</a>, <a href=\"/category/us/\">U.S.</a> </footer></body></html>']]\n",
      "\n",
      " [[2 1\n",
      "   '<html><head><div class=\"article-info\"><span class=\"byline \"><a href=\"/author/sam-laird/\"><img alt=\"2016%2f09%2f15%2f63%2fhttpsd2mhye01h4nj2n.cloudfront.netmediazgkymde1lza2.9814b\" class=\"author_image\" src=\"http://i.amz.mshcdn.com/-qaMPB8aiQeIaoBhqlU0OLjA07A=/90x90/2016%2F09%2F15%2F63%2Fhttpsd2mhye01h4nj2n.cloudfront.netmediaZgkyMDE1LzA2.9814b.jpg\"/></a><span class=\"author_name\">By <a href=\"/author/sam-laird/\">Sam Laird</a></span><time datetime=\"Wed, 07 May 2014 19:15:20 +0000\">2014-05-07 19:15:20 UTC</time></span></div></head><body><h1 class=\"title\">Ballin\\': 2014 NFL Draft Picks Get to Choose Their Own Walk-Out Music</h1><figure class=\"article-image\"><img alt=\"This Dec. 8, 2012 file photo shows Texas A&amp;M quarterback Johnny Manziel gesturing as he talks to reporters after winning the Heisman Trophy in New York.\" class=\"microcontent\" data-fragment=\"lead-image\" data-image=\"http://i.amz.mshcdn.com/CADSAjPf_UHvl5Z9OqlkPWABIGU=/950x534/2014%2F05%2F07%2Fff%2FJohnnyOK.cae2a.jpg\" data-micro=\"1\" data-url=\"null\" src=\"http://i.amz.mshcdn.com/CADSAjPf_UHvl5Z9OqlkPWABIGU=/950x534/2014%2F05%2F07%2Fff%2FJohnnyOK.cae2a.jpg\"/><figcaption class=\"image-caption\">This Dec. 8, 2012 file photo shows Texas A&amp;M quarterback Johnny Manziel gesturing as he talks to reporters after winning the Heisman Trophy in New York.</figcaption><div class=\"image-credit\">Image: Henny Ray Abrams/Associated Press</div></figure><article data-channel=\"entertainment\"><section class=\"article-content\"> <p>You\\'ve spend countless hours training to be an American football machine and all the blood, sweat and tears are about to pay off with a top selection in the <a href=\"http://mashable.com/category/nfl/\">NFL</a> Draft — and its accompanying hefty contract.\\xa0All you need now is the perfect soundtrack for the prefect moment.</p> <p>This year, for the first time ever, 30 picks in the NFL Draft will get to choose their own walk-out music to blare at Radio City Music Hall while they take the stage, don the hat of their new team and shake hands with NFL Commissioner Roger Goodell.</p> <div class=\"see-also\"><p>See also: <a href=\"http://mashable.com/2014/05/07/kevin-durant-mvp-speech/\">Emotional MVP Speech Will Make Kevin Durant Your Favorite NBA Player</a></p></div> <p>NFL Network and <a href=\"http://mashable.com/category/espn/\">ESPN</a> will play natural sounds as picks take the stage, but in the background you should be able to hear the player-selected tracks (radio-versions only, of course) that Jadeveon Clowney, Johnny Manziel and others hand select. Thirty players the NFL invited to New York City for the draft will get to play DJ and pick their tracks. The 2014 NFL Draft\\'s first round is on Thursday.</p> <p>Brian McCarthy, the NFL\\'s vice president of communications, says the new move came about after soliciting feedback from players at previous drafts on how to make the the big day more fun.</p> <p>\"We’ve always had music for each player selected but it’s been more city-oriented,\" McCarthy told <em>Mashable</em> in an email. \"We ask the prospects we have in NYC each year for ways to improve their overall experience.\"</p> <p>So the question becomes: Do you go with \"C.R.E.A.M.\" from the Wu-Tang Clan? Or what about \"All I Do Is Win\" from DJ Khaled? Then again, maybe BG\\'s \"Bling Bling\" is the most appropriate choice.</p> <p>Decisions, decisions. The life of an NFL prospect just got that much more complicated.</p> <div class=\"bonus-content\"><p>BONUS: <a href=\"http://mashable.com/2012/08/26/youtube-sports-fails/\">25 of YouTube\\'s Funniest Sports Fails</a></p></div> <section class=\"gallery\" data-display-mode=\"gallery\" data-id=\"7157\" data-slide-title-pos=\"\" data-slug=\"sports-fails\"> <header> <h1>Sports Fails</h1> </header> <ol class=\"slides\"> <li class=\"slide\" data-content-source=\"Gallery - Default\" data-id=\"5787da3d9111ae74d40037a7\" data-skip-rerender=\"false\" data-thumb=\"http://i.amz.mshcdn.com/be7Vqogmd2lRN65nX6vZH_YBUaQ=/180x140/http%3A%2F%2Fmashable.com%2Fwp-content%2Fgallery%2Fsports-fails%2FQ_3T2HJQWlY.jpg\"> <figure> <div class=\"aspect-16x9\"><iframe allowfullscreen=\"\" class=\"dnr\" frameborder=\"0\" src=\"http://www.youtube.com/embed/Q_3T2HJQWlY\"></iframe></div> </figure> <div class=\"meta\"> <h2 class=\"title\">1. Golf Cart Fail</h2> <div class=\"caption\"> <p>This runaway vehicle wreaked minor on-field havoc following a high school football championship in Texas last December. But a heroic bystander hopped aboard and put on the brakes.</p> <p>No casualties occurred, and the clip immediately became Internet legend.</p> </div> <div class=\"credit\"> </div> </div> </li> <li class=\"slide\" data-content-source=\"Gallery - Default\" data-id=\"5787da3d9111ae74d40037a8\" data-skip-rerender=\"false\" data-thumb=\"http://i.amz.mshcdn.com/2u9sfwWAyCzD0sz0fw_V8vArm_U=/180x140/http%3A%2F%2Fmashable.com%2Fwp-content%2Fgallery%2Fsports-fails%2F1aT06bbh47A.jpg\"> <figure> <div class=\"aspect-16x9\"><iframe allowfullscreen=\"\" class=\"dnr\" frameborder=\"0\" src=\"http://www.youtube.com/embed/1aT06bbh47A\"></iframe></div> </figure> <div class=\"meta\"> <h2 class=\"title\">2. Penalty Kick Fail</h2> <div class=\"caption\"><p>Watch out for the ricochet, goalie! This kid gets it in the right in the chops.</p></div> <div class=\"credit\"> </div> </div> </li> <li class=\"slide\" data-content-source=\"Gallery - Default\" data-id=\"5787da3d9111ae74d40037a9\" data-skip-rerender=\"false\" data-thumb=\"http://i.amz.mshcdn.com/vGGhrbNFPAN_5FG1108ubx4T4BA=/180x140/http%3A%2F%2Fmashable.com%2Fwp-content%2Fgallery%2Fsports-fails%2FS6IYyvypJ4o.jpg\"> <figure> <div class=\"aspect-16x9\"><iframe allowfullscreen=\"\" class=\"dnr\" frameborder=\"0\" src=\"http://www.youtube.com/embed/S6IYyvypJ4o\"></iframe></div> </figure> <div class=\"meta\"> <h2 class=\"title\">3. Mascot on Rollerblades Fail</h2> <div class=\"caption\"><p>What happens when you put an inflatable dinosaur on rollerblades and ask it to skate down a flight of stairs? Amazingness, that\\'s what.</p></div> <div class=\"credit\"> </div> </div> </li> <li class=\"slide\" data-content-source=\"Gallery - Default\" data-id=\"5787da3d9111ae74d40037aa\" data-skip-rerender=\"false\" data-thumb=\"http://i.amz.mshcdn.com/oUKkVA2G15swxedMPt6_RYPRBI0=/180x140/http%3A%2F%2Fmashable.com%2Fwp-content%2Fgallery%2Fsports-fails%2FZuOG09PGYFc.jpg\"> <figure> <div class=\"aspect-16x9\"><iframe allowfullscreen=\"\" class=\"dnr\" frameborder=\"0\" src=\"http://www.youtube.com/embed/ZuOG09PGYFc\"></iframe></div> </figure> <div class=\"meta\"> <h2 class=\"title\">4. Flopping Fail</h2> <div class=\"caption\"><p>In sports, to \"flop\" is to exaggerate the force of contact in hopes of drawing a favorable call from officials. But you\\'ve got to time it much, much better than this guy does.</p></div> <div class=\"credit\"> </div> </div> </li> <li class=\"slide\" data-content-source=\"Gallery - Default\" data-id=\"5787da3d9111ae74d40037ab\" data-skip-rerender=\"false\" data-thumb=\"http://i.amz.mshcdn.com/2KEhZJA6-h34A9p8GASTM60OR1U=/180x140/http%3A%2F%2Fmashable.com%2Fwp-content%2Fgallery%2Fsports-fails%2FyneRfVCy3Lo.jpg\"> <figure> <div class=\"aspect-16x9\"><iframe allowfullscreen=\"\" class=\"dnr\" frameborder=\"0\" src=\"http://www.youtube.com/embed/yneRfVCy3Lo\"></iframe></div> </figure> <div class=\"meta\"> <h2 class=\"title\">5. Hockey Celebration Fail</h2> <div class=\"caption\"><p>Apparently, if you hug a member of the opposite team after scoring a goal in hockey, you will get punched in the face.</p></div> <div class=\"credit\"> </div> </div> </li> <li class=\"slide\" data-content-source=\"Gallery - Default\" data-id=\"5787da3d9111ae74d40037ac\" data-skip-rerender=\"false\" data-thumb=\"http://i.amz.mshcdn.com/cG5KKvh8hrEXJW-my-o2nM9Ftf4=/180x140/http%3A%2F%2Fmashable.com%2Fwp-content%2Fgallery%2Fsports-fails%2Fu0mItqwOvIs.jpg\"> <figure> <div class=\"aspect-16x9\"><iframe allowfullscreen=\"\" class=\"dnr\" frameborder=\"0\" src=\"http://www.youtube.com/embed/u0mItqwOvIs\"></iframe></div> </figure> <div class=\"meta\"> <h2 class=\"title\">6. Innocent Bystander Fail</h2> <div class=\"caption\"><p>This kid is just in the wrong place at the wrong time...to the benefit of the rest of us.</p></div> <div class=\"credit\"> </div> </div> </li> <li class=\"slide\" data-content-source=\"Gallery - Default\" data-id=\"5787da3d9111ae74d40037ad\" data-skip-rerender=\"false\" data-thumb=\"http://i.amz.mshcdn.com/tIVt4wkQ6J8qaL8_8vHiElAfBCk=/180x140/http%3A%2F%2Fmashable.com%2Fwp-content%2Fgallery%2Fsports-fails%2FnkbKjtuNJhQ.jpg\"> <figure> <div class=\"aspect-16x9\"><iframe allowfullscreen=\"\" class=\"dnr\" frameborder=\"0\" src=\"http://www.youtube.com/embed/nkbKjtuNJhQ\"></iframe></div> </figure> <div class=\"meta\"> <h2 class=\"title\">7. Representing Your School Fail</h2> <div class=\"caption\"> <p>College football mascots are supposed to represent their schools in a fun, positive light — which doesn\\'t typically include picking fights. Here, the University of Oregon\\'s duck slams the University of Houston\\'s cougar.</p> <p>Bonus points for the sick elbow drop, though.</p> </div> <div class=\"credit\"> </div> </div> </li> <li class=\"slide\" data-content-source=\"Gallery - Default\" data-id=\"5787da3d9111ae74d40037ae\" data-skip-rerender=\"false\" data-thumb=\"http://i.amz.mshcdn.com/E6lU02B54NXEga21umlqAcvqoLA=/180x140/http%3A%2F%2Fmashable.com%2Fwp-content%2Fgallery%2Fsports-fails%2FqY0pqlvjGFQ.jpg\"> <figure> <div class=\"aspect-16x9\"><iframe allowfullscreen=\"\" class=\"dnr\" frameborder=\"0\" src=\"http://www.youtube.com/embed/qY0pqlvjGFQ\"></iframe></div> </figure> <div class=\"meta\"> <h2 class=\"title\">8. Weightlifting Fail</h2> <div class=\"caption\"> <p>Not saying we could successfully lift 432 pounds above our heads, but dang, that looks painful.</p> <p>German weightlifter Matthias Steiner dropped this massive barbell on his neck during the London Olympics this summer, but escaped serious injury.</p> </div> <div class=\"credit\"> </div> </div> </li> <li class=\"slide\" data-content-source=\"Gallery - Default\" data-id=\"5787da3d9111ae74d40037af\" data-skip-rerender=\"false\" data-thumb=\"http://i.amz.mshcdn.com/XaFbwsy3xlJlsaIEFcoZbxMGEng=/180x140/http%3A%2F%2Fmashable.com%2Fwp-content%2Fgallery%2Fsports-fails%2Fs5HB_3KkdyI.jpg\"> <figure> <div class=\"aspect-16x9\"><iframe allowfullscreen=\"\" class=\"dnr\" frameborder=\"0\" src=\"http://www.youtube.com/embed/s5HB_3KkdyI\"></iframe></div> </figure> <div class=\"meta\"> <h2 class=\"title\">9. Trampoline Dunk Fail</h2> <div class=\"caption\"><p>Sometimes, when you fail, you actually win.</p></div> <div class=\"credit\"> </div> </div> </li> <li class=\"slide\" data-content-source=\"Gallery - Default\" data-id=\"5787da3d9111ae74d40037b0\" data-skip-rerender=\"false\" data-thumb=\"http://i.amz.mshcdn.com/3zJ-NEhkMkjL1e8NgI_xpeBiqq8=/180x140/http%3A%2F%2Fmashable.com%2Fwp-content%2Fgallery%2Fsports-fails%2FVmU6BChuiBs.jpg\"> <figure> <div class=\"aspect-16x9\"><iframe allowfullscreen=\"\" class=\"dnr\" frameborder=\"0\" src=\"http://www.youtube.com/embed/VmU6BChuiBs\"></iframe></div> </figure> <div class=\"meta\"> <h2 class=\"title\">10. Hurdling Fail</h2> <div class=\"caption\"> <p>Why jump over hurdles when you could just RUN STRAIGHT THROUGH THEM?</p> <p>File under: Never, Ever Gets Old.</p> </div> <div class=\"credit\"> </div> </div> </li> <li class=\"slide\" data-content-source=\"Gallery - Default\" data-id=\"5787da3d9111ae74d40037b1\" data-skip-rerender=\"false\" data-thumb=\"http://i.amz.mshcdn.com/v_kZK1i9NtPqvo7qh68rLIoYf0s=/180x140/http%3A%2F%2Fmashable.com%2Fwp-content%2Fgallery%2Fsports-fails%2FGkKJvqMTbrA.jpg\"> <figure> <div class=\"aspect-16x9\"><iframe allowfullscreen=\"\" class=\"dnr\" frameborder=\"0\" src=\"http://www.youtube.com/embed/GkKJvqMTbrA\"></iframe></div> </figure> <div class=\"meta\"> <h2 class=\"title\">11. Paying Attention Fail</h2> <div class=\"caption\"><p>After what could best be described as an \"optimistic\" shot attempt in a game last season, NBA center JaVale McGee showed some nice hustle getting back on defense. Only problem? His team still had the ball.</p></div> <div class=\"credit\"> </div> </div> </li> <li class=\"slide\" data-content-source=\"Gallery - Default\" data-id=\"5787da3d9111ae74d40037b2\" data-skip-rerender=\"false\" data-thumb=\"http://i.amz.mshcdn.com/WRTT59TBPlSx7B4hZVYzW7R8mo0=/180x140/http%3A%2F%2Fmashable.com%2Fwp-content%2Fgallery%2Fsports-fails%2FhpfdzK_YWC8.jpg\"> <figure> <div class=\"aspect-16x9\"><iframe allowfullscreen=\"\" class=\"dnr\" frameborder=\"0\" src=\"http://www.youtube.com/embed/hpfdzK_YWC8\"></iframe></div> </figure> <div class=\"meta\"> <h2 class=\"title\">12. Judgment Fail</h2> <div class=\"caption\"><p>But that wasn\\'t McGee\\'s only legendary moment. Here, he shows why it\\'s not a good idea to try dunking from the free throw line mid-game.</p></div> <div class=\"credit\"> </div> </div> </li> <li class=\"slide\" data-content-source=\"Gallery - Default\" data-id=\"5787da3d9111ae74d40037b3\" data-skip-rerender=\"false\" data-thumb=\"http://i.amz.mshcdn.com/_o568FDtlCckm537AI4dimgWcWg=/180x140/http%3A%2F%2Fmashable.com%2Fwp-content%2Fgallery%2Fsports-fails%2F3hRwnXmdRCo.jpg\"> <figure> <div class=\"aspect-16x9\"><iframe allowfullscreen=\"\" class=\"dnr\" frameborder=\"0\" src=\"http://www.youtube.com/embed/3hRwnXmdRCo\"></iframe></div> </figure> <div class=\"meta\"> <h2 class=\"title\">13. Olympic Promo Fail</h2> <div class=\"caption\"> <p>For some reason, London\\'s Olympic promotions this summer involved hanging Mayor Boris Johnson on a zipline while waving a pair of tiny flags.</p> <p>Then he got stuck halfway through and it was pretty much the best, funniest, awkwardest thing that could have happened.</p> </div> <div class=\"credit\"> </div> </div> </li> <li class=\"slide\" data-content-source=\"Gallery - Default\" data-id=\"5787da3d9111ae74d40037b4\" data-skip-rerender=\"false\" data-thumb=\"http://i.amz.mshcdn.com/4eTUT6eiSiy9nOhElIzbrfXJP7w=/180x140/http%3A%2F%2Fmashable.com%2Fwp-content%2Fgallery%2Fsports-fails%2FzIwmcDe-Ni4.jpg\"> <figure> <div class=\"aspect-16x9\"><iframe allowfullscreen=\"\" class=\"dnr\" frameborder=\"0\" src=\"http://www.youtube.com/embed/zIwmcDe-Ni4\"></iframe></div> </figure> <div class=\"meta\"> <h2 class=\"title\">14. Grand Slam Celebration Fail</h2> <div class=\"caption\"><p>Major Leaguer Kendry Morales broke his lower left leg while celebrating a game-winning grand slam in 2010. This edited video provides the before, during and after rundown.</p></div> <div class=\"credit\"> </div> </div> </li> <li class=\"slide\" data-content-source=\"Gallery - Default\" data-id=\"5787da3d9111ae74d40037b5\" data-skip-rerender=\"false\" data-thumb=\"http://i.amz.mshcdn.com/tVk1brpM5740Azw34ujt5BgxkVw=/180x140/http%3A%2F%2Fmashable.com%2Fwp-content%2Fgallery%2Fsports-fails%2Fc3QYczyk9Ts.jpg\"> <figure> <div class=\"aspect-16x9\"><iframe allowfullscreen=\"\" class=\"dnr\" frameborder=\"0\" src=\"http://www.youtube.com/embed/c3QYczyk9Ts\"></iframe></div> </figure> <div class=\"meta\"> <h2 class=\"title\">15. Slam Dunk Fail</h2> <div class=\"caption\"><p>See? White guys <i>can</i> jump? It\\'s just the landing that\\'s the hard part.</p></div> <div class=\"credit\"> </div> </div> </li> <li class=\"slide\" data-content-source=\"Gallery - Default\" data-id=\"5787da3d9111ae74d40037b6\" data-skip-rerender=\"false\" data-thumb=\"http://i.amz.mshcdn.com/4I7yLaHhilNUwtiuALY5wcTizaQ=/180x140/http%3A%2F%2Fmashable.com%2Fwp-content%2Fgallery%2Fsports-fails%2F7zrDmkQ0l1Q.jpg\"> <figure> <div class=\"aspect-16x9\"><iframe allowfullscreen=\"\" class=\"dnr\" frameborder=\"0\" src=\"http://www.youtube.com/embed/7zrDmkQ0l1Q\"></iframe></div> </figure> <div class=\"meta\"> <h2 class=\"title\">16. High Dive Fail</h2> <div class=\"caption\"><p>The announcer here sums it up perfectly. She calls this attempt from the 1992 Olympics \"an absolute failed dive.\"</p></div> <div class=\"credit\"> </div> </div> </li> <li class=\"slide\" data-content-source=\"Gallery - Default\" data-id=\"5787da3d9111ae74d40037b7\" data-skip-rerender=\"false\" data-thumb=\"http://i.amz.mshcdn.com/LChIOzItqRkRgGSqJ3UfBD5Z8kY=/180x140/http%3A%2F%2Fmashable.com%2Fwp-content%2Fgallery%2Fsports-fails%2F8iyU1eQ4lcQ.jpg\"> <figure> <div class=\"aspect-16x9\"><iframe allowfullscreen=\"\" class=\"dnr\" frameborder=\"0\" src=\"http://www.youtube.com/embed/8iyU1eQ4lcQ\"></iframe></div> </figure> <div class=\"meta\"> <h2 class=\"title\">17. Piggyback Ride Fail</h2> <div class=\"caption\"><p>What begins as an innocent enough piggyback ride atop a fuzzy mascot turns into a pretty epic collision — and YouTube gold.</p></div> <div class=\"credit\"> </div> </div> </li> <li class=\"slide\" data-content-source=\"Gallery - Default\" data-id=\"5787da3d9111ae74d40037b8\" data-skip-rerender=\"false\" data-thumb=\"http://i.amz.mshcdn.com/IPTHCrCaylHRcgJxXIoxyOsxiFc=/180x140/http%3A%2F%2Fmashable.com%2Fwp-content%2Fgallery%2Fsports-fails%2FRLrJUB2mBfc.jpg\"> <figure> <div class=\"aspect-16x9\"><iframe allowfullscreen=\"\" class=\"dnr\" frameborder=\"0\" src=\"http://www.youtube.com/embed/RLrJUB2mBfc\"></iframe></div> </figure> <div class=\"meta\"> <h2 class=\"title\">18. Long Jump Fail</h2> <div class=\"caption\"><p>Dude! If you\\'re gonna pump up the crowd like that, you can\\'t just faceplant into the sand.</p></div> <div class=\"credit\"> </div> </div> </li> <li class=\"slide\" data-content-source=\"Gallery - Default\" data-id=\"5787da3d9111ae74d40037b9\" data-skip-rerender=\"false\" data-thumb=\"http://i.amz.mshcdn.com/vmpRtQHFt8yAVRRI1sz_r5JETIw=/180x140/http%3A%2F%2Fmashable.com%2Fwp-content%2Fgallery%2Fsports-fails%2FNbJHyCkBQ-A.jpg\"> <figure> <div class=\"aspect-16x9\"><iframe allowfullscreen=\"\" class=\"dnr\" frameborder=\"0\" src=\"http://www.youtube.com/embed/NbJHyCkBQ-A\"></iframe></div> </figure> <div class=\"meta\"> <h2 class=\"title\">19. Touchdown Celebration Fail</h2> <div class=\"caption\"><p>When you think about it, is there any better way to celebrate a touchdown than by pegging an unsuspecting spectator in the face? Bonus points for originality, at least.</p></div> <div class=\"credit\"> </div> </div> </li> <li class=\"slide\" data-content-source=\"Gallery - Default\" data-id=\"5787da3d9111ae74d40037ba\" data-skip-rerender=\"false\" data-thumb=\"http://i.amz.mshcdn.com/UjOVlaH2jxLEAeEimXLO-07-sBA=/180x140/http%3A%2F%2Fmashable.com%2Fwp-content%2Fgallery%2Fsports-fails%2FaWTXoNzuk8c.jpg\"> <figure> <div class=\"aspect-16x9\"><iframe allowfullscreen=\"\" class=\"dnr\" frameborder=\"0\" src=\"http://www.youtube.com/embed/aWTXoNzuk8c\"></iframe></div> </figure> <div class=\"meta\"> <h2 class=\"title\">20. Pro Golfer Fail</h2> <div class=\"caption\"><p>You\\'d think a professional golfer could put the ball in the hole with less than 16 strokes. Kevin Na — and the rest of the world — found out otherwise on this par-four hole at the 2011 Valero Texas Open.</p></div> <div class=\"credit\"> </div> </div> </li> <li class=\"slide\" data-content-source=\"Gallery - Default\" data-id=\"5787da3d9111ae74d40037bb\" data-skip-rerender=\"false\" data-thumb=\"http://i.amz.mshcdn.com/4S0C_TLjgu0XcRGatE3tDO54jsU=/180x140/http%3A%2F%2Fmashable.com%2Fwp-content%2Fgallery%2Fsports-fails%2FO8BNjd9Hhrg.jpg\"> <figure> <div class=\"aspect-16x9\"><iframe allowfullscreen=\"\" class=\"dnr\" frameborder=\"0\" src=\"http://www.youtube.com/embed/O8BNjd9Hhrg\"></iframe></div> </figure> <div class=\"meta\"> <h2 class=\"title\">21. Head-First Slide Fail</h2> <div class=\"caption\"><p>Well, that\\'s one way of doing it...right?</p></div> <div class=\"credit\"> </div> </div> </li> <li class=\"slide\" data-content-source=\"Gallery - Default\" data-id=\"5787da3d9111ae74d40037bc\" data-skip-rerender=\"false\" data-thumb=\"http://i.amz.mshcdn.com/5cT1NRF2R0mrlNFnnM2-PzuqU0c=/180x140/http%3A%2F%2Fmashable.com%2Fwp-content%2Fgallery%2Fsports-fails%2FyabpY-YT46k.jpg\"> <figure> <div class=\"aspect-16x9\"><iframe allowfullscreen=\"\" class=\"dnr\" frameborder=\"0\" src=\"http://www.youtube.com/embed/yabpY-YT46k\"></iframe></div> </figure> <div class=\"meta\"> <h2 class=\"title\">22. Time Management Fail</h2> <div class=\"caption\"> <p>Tie game, clock winding down — it\\'s always better to get one last attempt up than just let the game go into overtime. A full court desperation heave with a 11 seconds to go is never the way to do it, however.</p> <p>This classic gaffe by the University of Connecticut\\'s Roscoe Smith came during a matchup of top teams in 2011.</p> </div> <div class=\"credit\"> </div> </div> </li> <li class=\"slide\" data-content-source=\"Gallery - Default\" data-id=\"5787da3d9111ae74d40037bd\" data-skip-rerender=\"false\" data-thumb=\"http://i.amz.mshcdn.com/OTu06CuHk-G93Zdv0KaeS6sO6d0=/180x140/http%3A%2F%2Fmashable.com%2Fwp-content%2Fgallery%2Fsports-fails%2F6WHRxXY67UA.jpg\"> <figure> <div class=\"aspect-16x9\"><iframe allowfullscreen=\"\" class=\"dnr\" frameborder=\"0\" src=\"http://www.youtube.com/embed/6WHRxXY67UA\"></iframe></div> </figure> <div class=\"meta\"> <h2 class=\"title\">23. Boogie Boarding Fail</h2> <div class=\"caption\"><p>Its veracity may be suspect, but this 2008 YouTube classic has more than 12.7 million views, despite a mind-numbing soundtrack.</p></div> <div class=\"credit\"> </div> </div> </li> <li class=\"slide\" data-content-source=\"Gallery - Default\" data-id=\"5787da3d9111ae74d40037be\" data-skip-rerender=\"false\" data-thumb=\"http://i.amz.mshcdn.com/FEGrpdDY8wDe8C5IpgjMLpyxHnQ=/180x140/http%3A%2F%2Fmashable.com%2Fwp-content%2Fgallery%2Fsports-fails%2Fj3bUb72KzFA.jpg\"> <figure> <div class=\"aspect-16x9\"><iframe allowfullscreen=\"\" class=\"dnr\" frameborder=\"0\" src=\"http://www.youtube.com/embed/j3bUb72KzFA\"></iframe></div> </figure> <div class=\"meta\"> <h2 class=\"title\">24. Sportsmanship Fail</h2> <div class=\"caption\"> <p>The summer of 2011 was a tough time for NBA star LeBron James. It was full of lingering ill-will for his decision to the leave the Cleveland Cavaliers and snarky schadenfreude over his initial failure to win a championship with the Miami Heat.</p> <p>So it makes perfect sense that he\\'d let off some steam by viciously dunking on a tiny kid at summer camp, right? That\\'s what happens at the 0:43 mark of this video.</p> </div> <div class=\"credit\"> </div> </div> </li> <li class=\"slide\" data-content-source=\"Gallery - Default\" data-id=\"5787da3d9111ae74d40037bf\" data-skip-rerender=\"false\" data-thumb=\"http://i.amz.mshcdn.com/hw0rhe9y9NAfM7R0Gp5q__Kr_Ho=/180x140/http%3A%2F%2Fmashable.com%2Fwp-content%2Fgallery%2Fsports-fails%2Ff_VdySnHsJY.jpg\"> <figure> <div class=\"aspect-16x9\"><iframe allowfullscreen=\"\" class=\"dnr\" frameborder=\"0\" src=\"http://www.youtube.com/embed/f_VdySnHsJY\"></iframe></div> </figure> <div class=\"meta\"> <h2 class=\"title\">25. Standing on a Basketball Hoop Fail</h2> <div class=\"caption\"><p>We\\'re not quite sure why this mascot thought standing on top of a basketball rim was a good idea.</p></div> <div class=\"credit\"> </div> </div> </li> </ol> </section> </section></article><footer class=\"article-topics\"> Topics: <a href=\"/category/entertainment/\">Entertainment</a>, <a href=\"/category/nfl/\">NFL</a>, <a href=\"/category/nfl-draft/\">NFL Draft</a>, <a href=\"/category/sports/\">Sports</a>, <a href=\"/category/television/\">Television</a> </footer></body></html>']]\n",
      "\n",
      " ...\n",
      "\n",
      " [[27640 0\n",
      "   '<html><head><div class=\"article-info\"><span class=\"byline \"><a href=\"/author/christine-erickson/\"><img alt=\"2016%2f06%2f30%2f3a%2f201503300cheadshot_20.16030.33c69\" class=\"author_image\" src=\"http://i.amz.mshcdn.com/K5lQPYXfM4CjaglnP3qWxmpoBP8=/90x90/2016%2F06%2F30%2F3a%2F201503300cHeadshot_20.16030.33c69.jpg\"/></a><span class=\"author_name\">By <a href=\"/author/christine-erickson/\">Christine Erickson</a></span><time datetime=\"Thu, 10 Jul 2014 12:30:13 +0000\">2014-07-10 12:30:13 UTC</time></span></div></head><body><h1 class=\"title\">14 Dogs That Frankly Cannot Take the Heat</h1><figure class=\"article-image\"></figure><article data-channel=\"watercooler\"><section class=\"article-content\"> <p>There\\'s nothing more helpless than the middle of <a href=\"http://mashable.com/category/summer/\">summer</a> feeling when you can\\'t escape the sweltering heat. When it\\'s hot and the A.C. isn\\'t kicking in (or worse, isn\\'t working at all), your irritability flares with each bead of sweat dripping down your face and back.</p> <p>These overheated dogs know just how you feel.</p> <div class=\"see-also\"><p>See also: <a href=\"http://mashable.com/2014/05/23/hottest-chicks-on-instagram/\">100 Hottest Chicks on Instagram</a></p></div> <p>Your skin turns irritatingly red. You\\'re absolutely paralyzed by heat exhaustion. You\\'ve got ketchup on your face, and no one was kind enough to tell you.</p> <p>We can all relate with these scorched dogs, and take comfort in the fact that we\\'re not them.</p> <section class=\"gallery\" data-display-mode=\"list\" data-id=\"17515\" data-slide-title-pos=\"top\" data-slug=\"x-dogs-that-just-cant-take-the-heat\"> <header> <h1>14 Dogs That Frankly Cannot Take the Heat</h1> </header> <ol class=\"slides\"> <li class=\"slide\" data-content-source=\"Gallery - Image - Imgur\" data-id=\"53d01afa97b2f814e00014ed\" data-skip-rerender=\"false\" data-thumb=\"http://i.imgur.com/z9XrhAAl.jpg\"> <figure> <img alt=\"\" src=\"http://i.imgur.com/z9XrhAA.jpg\"> </img></figure> <div class=\"meta\"> <h2 class=\"title\"></h2> <div class=\"caption\"></div> <div class=\"credit\"> Image: Imgur, <a href=\"http://imgur.com/user/YuffieK\" target=\"_blank\">YuffieK</a> </div> </div> </li> <li class=\"slide\" data-content-source=\"Gallery - Image - Flickr\" data-id=\"53d01afb97b2f814e00014ee\" data-skip-rerender=\"false\" data-thumb=\"http://i.amz.mshcdn.com/LyhH4nLLlDGDzgtsnWDUWXz3dLA=/180x140/http%3A%2F%2Fmashable.com%2Fwp-content%2Fgallery%2Fx-dogs-that-just-cant-take-the-heat%2Fhot-hot-dog.jpg\"> <figure> <img alt=\"\" src=\"http://i.amz.mshcdn.com/h9P7fV-b0e_NmSmju8DwK_B907U=/fit-in/850x850/http%3A%2F%2Fmashable.com%2Fwp-content%2Fgallery%2Fx-dogs-that-just-cant-take-the-heat%2Fhot-hot-dog.jpg\"> </img></figure> <div class=\"meta\"> <h2 class=\"title\"></h2> <div class=\"caption\"></div> <div class=\"credit\"> Image: Flickr, <a href=\"http://www.thebusybrain.com/\" target=\"_blank\">The Busy Brain</a> </div> </div> </li> <li class=\"slide\" data-content-source=\"Gallery - Image - Imgur\" data-id=\"53d01afb97b2f814e00014ef\" data-skip-rerender=\"false\" data-thumb=\"http://i.imgur.com/jNrsWyFl.jpg\"> <figure> <img alt=\"\" src=\"http://i.imgur.com/jNrsWyF.jpg\"> </img></figure> <div class=\"meta\"> <h2 class=\"title\"></h2> <div class=\"caption\"></div> <div class=\"credit\"> Image: Imgur, <a href=\"http://www.reddit.com/user/______MACHETE______\" target=\"_blank\">______MACHETE______</a> </div> </div> </li> <li class=\"slide\" data-content-source=\"Gallery - Image - Imgur\" data-id=\"53d01afb97b2f814e00014f0\" data-skip-rerender=\"false\" data-thumb=\"http://i.imgur.com/qzZmo9hl.jpg\"> <figure> <img alt=\"\" src=\"http://i.imgur.com/qzZmo9h.jpg\"> </img></figure> <div class=\"meta\"> <h2 class=\"title\"></h2> <div class=\"caption\"></div> <div class=\"credit\"> Image: Imgur, <a href=\"http://www.reddit.com/user/Thecatsareok\" target=\"_blank\">Thecatsareok</a> </div> </div> </li> <li class=\"slide\" data-content-source=\"Gallery - Image - Imgur\" data-id=\"53d01afb97b2f814e00014f1\" data-skip-rerender=\"false\" data-thumb=\"http://i.imgur.com/eJcoES3l.jpg\"> <figure> <img alt=\"\" src=\"http://i.imgur.com/eJcoES3.jpg\"> </img></figure> <div class=\"meta\"> <h2 class=\"title\"></h2> <div class=\"caption\"></div> <div class=\"credit\"> Image: Imgur, <a href=\"http://imgur.com/user/kyussgreen\" target=\"_blank\">kyussgreen</a> </div> </div> </li> <li class=\"slide\" data-content-source=\"Gallery - Image - Imgur\" data-id=\"53d01afb97b2f814e00014f2\" data-skip-rerender=\"false\" data-thumb=\"http://i.imgur.com/wDCmm2ul.jpg\"> <figure> <img alt=\"\" src=\"http://i.imgur.com/wDCmm2u.jpg\"> </img></figure> <div class=\"meta\"> <h2 class=\"title\"></h2> <div class=\"caption\"></div> <div class=\"credit\"> Image: Imgur, <a href=\"http://imgur.com/user/ListenHereYouLittleShit\" target=\"_blank\">ListenHereYouLittleShit</a> </div> </div> </li> <li class=\"slide\" data-content-source=\"Gallery - Image - Instagram\" data-id=\"53d01afb97b2f814e00014f3\" data-skip-rerender=\"false\" data-thumb=\"http://instagr.am/p/qLl4VmFrle/media/?size=t\"> <figure> <img alt=\"\" src=\"http://instagr.am/p/qLl4VmFrle/media/?size=l\"> </img></figure> <div class=\"meta\"> <h2 class=\"title\"></h2> <div class=\"caption\"></div> <div class=\"credit\"> Image: <a href=\"http://instagram.com/contiki\" target=\"_blank\">@contiki on Instagram</a> </div> </div> </li> <li class=\"slide\" data-content-source=\"Gallery - Image - Instagram\" data-id=\"53d01afb97b2f814e00014f4\" data-skip-rerender=\"false\" data-thumb=\"http://instagr.am/p/qLhtruF75J/media/?size=t\"> <figure> <img alt=\"\" src=\"http://instagr.am/p/qLhtruF75J/media/?size=l\"> </img></figure> <div class=\"meta\"> <h2 class=\"title\"></h2> <div class=\"caption\"></div> <div class=\"credit\"> Image: <a href=\"http://instagram.com/mariatheresaapit\" target=\"_blank\">@mariatheresaapit on Instagram</a> </div> </div> </li> <li class=\"slide\" data-content-source=\"Gallery - Image - Instagram\" data-id=\"53d01afb97b2f814e00014f5\" data-skip-rerender=\"false\" data-thumb=\"http://instagr.am/p/qNCSMClpsH/media/?size=t\"> <figure> <img alt=\"\" src=\"http://instagr.am/p/qNCSMClpsH/media/?size=l\"> </img></figure> <div class=\"meta\"> <h2 class=\"title\"></h2> <div class=\"caption\"></div> <div class=\"credit\"> Image: <a href=\"http://instagram.com/caitlinmckmeow\" target=\"_blank\">@caitlinmckmeow on Instagram</a> </div> </div> </li> <li class=\"slide\" data-content-source=\"Gallery - Image - Imgur\" data-id=\"53d01afb97b2f814e00014f6\" data-skip-rerender=\"false\" data-thumb=\"http://i.imgur.com/nPJIfoNl.jpg\"> <figure> <img alt=\"\" src=\"http://i.imgur.com/nPJIfoN.jpg\"> </img></figure> <div class=\"meta\"> <h2 class=\"title\"></h2> <div class=\"caption\"></div> <div class=\"credit\"> Image: Imgur, <a href=\"http://imgur.com/user/iidosee\" target=\"_blank\">iidosee</a> </div> </div> </li> <li class=\"slide\" data-content-source=\"Gallery - Image - Flickr\" data-id=\"53d01afb97b2f814e00014f7\" data-skip-rerender=\"false\" data-thumb=\"http://i.amz.mshcdn.com/ZNYI2ul6VBNSBW_A2ncZqJLVJyc=/180x140/http%3A%2F%2Fmashable.com%2Fwp-content%2Fgallery%2Fx-dogs-that-just-cant-take-the-heat%2Fhot-dog.jpg\"> <figure> <img alt=\"\" src=\"http://i.amz.mshcdn.com/4NBlV58ZrrUTCctlJm_awa-j7aA=/fit-in/850x850/http%3A%2F%2Fmashable.com%2Fwp-content%2Fgallery%2Fx-dogs-that-just-cant-take-the-heat%2Fhot-dog.jpg\"> </img></figure> <div class=\"meta\"> <h2 class=\"title\"></h2> <div class=\"caption\"></div> <div class=\"credit\"> Image: Flickr, <a href=\"https://www.flickr.com/people/mugley/\" target=\"_blank\">Jes</a> </div> </div> </li> <li class=\"slide\" data-content-source=\"Gallery - Image - Flickr\" data-id=\"53d01afb97b2f814e00014f8\" data-skip-rerender=\"false\" data-thumb=\"http://i.amz.mshcdn.com/9u6uVV9MMFNP8sPA1IKAswG2tIo=/180x140/http%3A%2F%2Fmashable.com%2Fwp-content%2Fgallery%2Fx-dogs-that-just-cant-take-the-heat%2Fsweaty-hot-dog.jpg\"> <figure> <img alt=\"\" src=\"http://i.amz.mshcdn.com/vuldXlZqbvc4oucXxBgvztHQlkc=/fit-in/850x850/http%3A%2F%2Fmashable.com%2Fwp-content%2Fgallery%2Fx-dogs-that-just-cant-take-the-heat%2Fsweaty-hot-dog.jpg\"> </img></figure> <div class=\"meta\"> <h2 class=\"title\"></h2> <div class=\"caption\"></div> <div class=\"credit\"> Image: Flickr, <a href=\"http://www.thebusybrain.com/\" target=\"_blank\">The Busy Brain</a> </div> </div> </li> <li class=\"slide\" data-content-source=\"Gallery - Image - Flickr\" data-id=\"53d01afb97b2f814e00014f9\" data-skip-rerender=\"false\" data-thumb=\"http://i.amz.mshcdn.com/aE_QkDgviPKaQtH5iYURIkm98rE=/180x140/http%3A%2F%2Fmashable.com%2Fwp-content%2Fgallery%2Fx-dogs-that-just-cant-take-the-heat%2Fburnt-hot-dog.jpg\"> <figure> <img alt=\"\" src=\"http://i.amz.mshcdn.com/14YzyaCHCICwNk9lbOMJbjD-77Y=/fit-in/850x850/http%3A%2F%2Fmashable.com%2Fwp-content%2Fgallery%2Fx-dogs-that-just-cant-take-the-heat%2Fburnt-hot-dog.jpg\"> </img></figure> <div class=\"meta\"> <h2 class=\"title\"></h2> <div class=\"caption\"></div> <div class=\"credit\"> Image: Flickr, <a href=\"https://www.flickr.com/people/stevendepolo/\" target=\"_blank\">stevendepolo</a> </div> </div> </li> <li class=\"slide\" data-content-source=\"Gallery - Image - Instagram\" data-id=\"53d01afb97b2f814e00014fa\" data-skip-rerender=\"false\" data-thumb=\"http://instagr.am/p/Y6fdZ6RonQ/media/?size=t\"> <figure> <img alt=\"#roastedhotdogs for supper! #yum #food #summer13 #delicious\" src=\"http://instagr.am/p/Y6fdZ6RonQ/media/?size=l\"> </img></figure> <div class=\"meta\"> <h2 class=\"title\"></h2> <div class=\"caption\"><p>#roastedhotdogs for supper! #yum #food #summer13 #delicious</p></div> <div class=\"credit\"> Image: <a href=\"http://instagram.com/jcherps\" target=\"_blank\">@jcherps on Instagram</a> </div> </div> </li> </ol> </section> </section></article><footer class=\"article-topics\"> Topics: <a href=\"/category/food/\">Food</a>, <a href=\"/category/hot-dogs/\">hot dogs</a>, <a href=\"/category/humor/\">humor</a>, <a href=\"/category/photography/\">Photography</a>, <a href=\"/category/watercooler/\">Watercooler</a> </footer></body></html>']]\n",
      "\n",
      " [[27641 0\n",
      "   '<html><head><div class=\"article-info\"><span class=\"byline \"><a href=\"/author/seth-fiegerman/\"><img alt=\"2016%2f06%2f30%2f1e%2f201506160cheadshot_20.93441.6ac4d\" class=\"author_image\" src=\"http://i.amz.mshcdn.com/MDoXLrBGsPD_-UgjHh7dfumRLd8=/90x90/2016%2F06%2F30%2F1e%2F201506160cHeadshot_20.93441.6ac4d.jpg\"/></a><span class=\"author_name\">By <a href=\"/author/seth-fiegerman/\">Seth Fiegerman</a></span><time datetime=\"Tue, 16 Apr 2013 20:49:16 +0000\">2013-04-16 20:49:16 UTC</time></span></div></head><body><h1 class=\"title\">Yahoo Earnings Beat Estimates, But Core Problems Remain</h1><figure class=\"article-image\"><img class=\"microcontent\" data-fragment=\"lead-image\" data-image=\"http://i.amz.mshcdn.com/3XahhGvUvZluOsLgvM4W1dyqAS0=/950x534/2013%2F04%2F18%2F03%2FMarissaMaye.e0a62.jpg\" data-micro=\"1\" data-url=\"null\" src=\"http://i.amz.mshcdn.com/3XahhGvUvZluOsLgvM4W1dyqAS0=/950x534/2013%2F04%2F18%2F03%2FMarissaMaye.e0a62.jpg\"/></figure><article data-channel=\"business\"><section class=\"article-content\"> <p>Yahoo\\'s profits in the first quarter beat Wall Street estimates, but the company\\'s core advertising business still appears to be heading in the wrong direction. </p> <p>Yahoo reported earnings-per-share of $0.38 on revenue of $1.07 billion for the March quarter, beating the consensus estimate for earnings of $0.24 per share, but coming in below the $1.1 billion in revenue that analysts had expected. The stock declined by as much as 4% in after hours trading following the earnings release.</p> <p>Search revenue increased by 6% from the same quarter a year ago to $384 million, but that wasn\\'t enough to offset falling advertising revenues. Display revenues were particularly disappointing, declining by 11% year-over-year to $402 million, and price-per-click decreased 7%. Yahoo\\'s $1.1 billion in revenue was down from $1.22 billion in the March quarter of 2012. </p> <p>The earnings report confirms that Yahoo and its new CEO Marissa Mayer are making headway on search, but have yet to figure out how to staunch the bleeding from display revenue, which is a key part of the business. </p> <p>In a statement, Mayer emphasized that Yahoo\\'s business is stabilizing and her team is taking steps for long-term growth. \"We saw continued stability in our business, strengthened our team, and started the year with fast execution against our products and partnerships,\" Mayer said. \"We are moving quickly to roll out beautifully designed, more intuitive experiences for our users. I’m confident that the improvements we’re making to our products will set up the Company for long-term growth.\"</p> <p><a href=\"http://ycharts.com/companies/YHOO/chart#series=agg:last,units:,freq:,calc:price,type:company,id:YHOO&amp;maxPoints=640&amp;zoom=5&amp;format=real\" target=\"_blank\"><img alt=\"YHOO Chart\" data-fragment=\"m!162b\" data-image=\"http://i.amz.mshcdn.com/WyHQRseMKj5sQS093yRTGvsQjpY=/http%3A%2F%2Fmedia.ycharts.com%2Fcharts%2Fea22ce740ec78d4a3320f5634ae6b184.png\" data-micro=\"1\" src=\"http://i.amz.mshcdn.com/xP6Dois-GAklhoOS56xaxIRhdhU=/fit-in/1200x9600/http%3A%2F%2Fmedia.ycharts.com%2Fcharts%2Fea22ce740ec78d4a3320f5634ae6b184.png\"/></a></p> <p style=\"font-size: 10px;\"><a href=\"http://ycharts.com/companies/YHOO\" target=\"_blank\">YHOO</a> data by <a href=\"http://ycharts.com\" target=\"_blank\">YCharts</a></p> <p>Mayer, who <a href=\"http://mashable.com/2012/07/16/marissa-mayer-is-yahoos-new-ceo/\">joined Yahoo</a> from Google in July, has attempted to change the company\\'s culture by initiating regular town hall meetings and <a href=\"http://mashable.com/2012/07/29/yahoo-free-food-all-hands-meetings/\">free food</a> — common at other Silicon Valley companies — and by forcing all employees to report in to the office rather than working from home. Mayer has also acquired six startups including <a href=\"http://mashable.com/2012/10/25/yahoo-acquires-stamped/\">Stamped</a>, <a href=\"http://mashable.com/2013/03/20/yahoo-acquires-jybe/\">Jybe</a> and <a href=\"http://mashable.com/2012/12/04/yahoo-acquires-ontheair/\">OnTheAir</a> to bring engineering talent to Yahoo and build up its mobile team.</p> <p>Some of these moves have generated a fair amount of criticism, including the <a href=\"http://mashable.com/2013/02/27/yahoo-work-at-home/\">work-from-home decision</a>, Mayer\\'s determination to personally approve every new hire and Yahoo\\'s recent <a href=\"http://mashable.com/2013/03/26/yahoo-summly/\">$30 million acquisition of Summly</a>, a mobile news startup run by a 17-year old. Even so, investors have remained confident in Mayer and the stock has generally continued on an upward trajectory.</p> <p>Yahoo\\'s stock has been hovering just below $25 in recent days, its highest level in nearly five years and an increase of about 50% from where it was six months ago, as investors have shown renewed optimism in the company and Mayer\\'s leadership.</p> <p><em>Image via Getty, Justin Sullivan</em></p> </section></article><footer class=\"article-topics\"> Topics: <a href=\"/category/business/\">Business</a>, <a href=\"/category/marissa-mayer/\">marissa mayer</a>, <a href=\"/category/media/\">Media</a>, <a href=\"/category/stocks/\">stocks</a>, <a href=\"/category/yahoo/\">Yahoo</a> </footer></body></html>']]\n",
      "\n",
      " [[27642 1\n",
      "   '<html><head><div class=\"article-info\"><span class=\"byline \"><a href=\"/author/megan-ranney/\"><img alt=\"Default-m\" class=\"author_image\" src=\"http://i.amz.mshcdn.com/raEPzavg65Jzvjy-L4U699QBlmQ=/90x90/default-m.jpg\"/></a><span class=\"author_name\">By <a href=\"/author/megan-ranney/\">Megan Ranney</a></span><time datetime=\"Fri, 17 Oct 2014 18:22:43 +0000\">2014-10-17 18:22:43 UTC</time></span></div></head><body><h1 class=\"title\">The winners of our #CurioCity contest tour Austin’s tech scene</h1><figure class=\"article-image\"></figure><article data-channel=\"small-business\"><section class=\"article-content\"> <div class=\"shift-to-hero\"><div class=\"content-mash-video\" data-autoplay=\"\" data-embedurl=\"http://mashable.com/videos/embed?video=NfSt95DZ&amp;player=offsite\" data-labels=\\'[\"No-Preroll\"]\\' data-playlist=\"http://content.jwplatform.com/manifests/NfSt95DZ.m3u8\" data-template=\"postlead\" data-thumbnail=\"http://content.jwplatform.com/thumbs/NfSt95DZ.jpg\" data-title=\"CurioCity: Bringing Austin and London Together\" data-video=\"3844926029001\"></div></div> <p>Originality. Creativity. Ingenuity.</p> <p>In addition to a thriving tech scene and legendary love of music, these are the things that drive two of the most innovative and trailblazing cities in the world — London and Austin.</p> <p>To celebrate British Airways’ new direct route between the two cities, <em>Mashable</em> challenged the UK community to tweet their most groundbreaking ideas for how to improve travel. Five lucky winners were invited to join us in Austin for a whirlwind five-day tour that included fantastic food, great music and an up-close look at Austin’s burgeoning tech scene.</p> <div class=\"see-also\"><p>See also: <a href=\"http://mashable.com/2014/10/07/travel-innovation-contest/\">Announcing the Best Travel Innovations From Our #CurioCity Contest</a></p></div> <p>After their direct flight from London via British Airways’ new 787 Dreamliner, the winners kicked off their trip with dinner at the iconic Lamberts Downtown Barbecue in the heart of Austin.</p> <p>The group’s visit coincided with <a href=\"http://austinstartupweek.com/\" rel=\"nofollow\" target=\"_blank\">Austin Startup Week</a>, a five-day series of events dedicated to furthering local entrepreneurship and small businesses. It began with the ATX Startup Crawl, where participants were able to visit with local startups and mingle with the community. The first stop? <a href=\"http://capitalfactory.com/\" rel=\"nofollow\" target=\"_blank\">Capital Factory</a>, an Austin accelerator committed to fostering the success of Austin’s startups.</p> <p>On Friday, winners traveled to Round Rock to visit <a href=\"https://www.google.com/url?sa=t&amp;rct=j&amp;q=&amp;esrc=s&amp;source=web&amp;cd=1&amp;cad=rja&amp;uact=8&amp;ved=0CCAQFjAA&amp;url=http%3A%2F%2Fwww.techshop.ws%2F&amp;ei=J7o-VMTYKafbsASBkYHgCA&amp;usg=AFQjCNHc4CYc6qNxu6Loks5CahPPP1FgnQ&amp;sig2=IePFzhVvxKgU_Ki1OwFP_g&amp;bvm=bv.77412846,d.cWc\" rel=\"nofollow\" target=\"_blank\">TechShop</a>, a member-based workshop that gives community members and startups access to professional tools, software and space. There, they toured the facilities and were able to take a class in <a href=\"http://www.makerbot.com/\" rel=\"nofollow\" target=\"_blank\">MakerBot</a> software in order to produce their own 3D print.</p> <blockquote class=\"twitter-tweet\" lang=\"en\"> <p>3D printing in 6 seconds <a href=\"https://twitter.com/hashtag/CurioCity?src=hash\" rel=\"nofollow\" target=\"_blank\">#CurioCity</a> <a href=\"https://twitter.com/hashtag/Austin?src=hash\" rel=\"nofollow\" target=\"_blank\">#Austin</a> <a href=\"https://t.co/XuSoPcNHSB\" rel=\"nofollow\" target=\"_blank\">https://t.co/XuSoPcNHSB</a></p> <p>— Mike Gilmour (@mike777999) <a href=\"https://twitter.com/mike777999/status/520674517858156544\" rel=\"nofollow\" target=\"_blank\">October 10, 2014</a></p> </blockquote> <p>The visit was followed by British Airways’ and <em>Mashable’s</em> Austin Bash, which brought together the best of both Austin’s startup and music communities. The celebration included activations by <a href=\"http://www.riffstation.com/\" rel=\"nofollow\" target=\"_blank\">Rif Station</a>, a menu blending Austin and British cuisines, custom cocktails and indie rock bands The Sour Notes and Catfish and The Bottlemen.</p> <blockquote class=\"instagram-media\" data-instgrm-captioned=\"\" data-instgrm-version=\"2\" style=\"background: #FFF; border: 0; border-radius: 3px; box-shadow: 0 0 1px 0 rgba(0,0,0,0.5),0 1px 10px 0 rgba(0,0,0,0.15); margin: 1px; max-width: 658px; padding: 0; width: calc(100% - 2px);\"><div style=\"padding: 8px;\"> <div style=\"background: #F8F8F8; line-height: 0; margin-top: 40px; padding-bottom: 55%; padding-top: 45%; text-align: center; width: 100%;\"> <div style=\"position: relative;\"> <div style=\"-webkit-animation: dkaXkpbBxI 1s ease-out infinite; animation: dkaXkpbBxI 1s ease-out infinite; background: url(data:image/png; base64,ivborw0kggoaaaansuheugaaacwaaaascamaaaapwqozaaaagfbmveuiiii9pt0ehh4gib4hibkchbwchbwchbydr+jqaaaachrstlmaba4yhyqsm5jtamwaaadfsurbvdjl7zvbegmhcaqbaf//42xcnbpaqakcm0ftumfaaibe81iqbjds3ls6zs3bipb9wed3yyxfpmhrft8sgyrcp1x8ueuxlmznwelfoycv6mhwwwmzdpekhlhlw7nwjqkhc4uizphavdza2jpzudsbzzinae2s6owh8xpmx8g7zzgkeopuoyhvgz1tbcxmkd3kwnvbu0gkhkx+izilf77iofhry1nyfnb/lqpb79drwoyjva/davg9b/rlb4cc+nqgdz/tvbbbnr6gbreqn/nrmdgaqeej7whonozjf+y2i/fzou/qaaaaaelftksuqmcc); display: block; height: 44px; margin: 0 auto -44px; position: relative; top: -44px; width: 44px;\"></div> <p><span style=\"color: #c9c8cd; font-family: Arial,sans-serif; font-size: 12px; font-style: normal; font-weight: bold; position: relative; top: 15px;\">Loading</span></p> </div> <p>\\xa0</p> </div> <p>Amazing day at the Austin City Limits music festival. Such a cool festival. #curiocity #Austin #Texas #aclfestival #KeepAustinWeird <a href=\"https://instagram.com/p/uCeBY3HHzK/\" rel=\"nofollow\" style=\"color: #c9c8cd; font-family: Arial,sans-serif; font-size: 14px; font-style: normal; font-weight: normal; text-decoration: none;\" target=\"_blank\"> View on Instagram</a></p> </div></blockquote> <script async=\"\" defer=\"\" src=\"//platform.instagram.com/en_US/embeds.js\"></script><p>Also on the itinerary was a stop at <a href=\"http://www.aclfestival.com/\" rel=\"nofollow\" target=\"_blank\">Austin City Limits</a>, one of the country\\'s most renowned music festivals, to celebrate the city\\'s long-standing musical roots. Our winners joined others at the festival\\'s VIP lounge, which offered free food, drinks and even haircuts, to enjoy a lineup of performers including everyone from Lana Del Rey to Skrillex.</p> <blockquote class=\"twitter-tweet\" lang=\"en\"> <p>Spending the day in the VIP area at <a href=\"https://twitter.com/hashtag/ACLFest?src=hash\" rel=\"nofollow\" target=\"_blank\">#ACLFest</a>. This place is AWESOME. <a href=\"https://twitter.com/hashtag/CurioCity?src=hash\" rel=\"nofollow\" target=\"_blank\">#CurioCity</a></p> <p>— Mike Gilmour (@mike777999) <a href=\"https://twitter.com/mike777999/status/%20\" target=\"_blank\">October 12, 2014</a></p> </blockquote> <p>They capped off their trip with a taste of Austin’s famous Tex-Mex - including flautas, guacamole and street corn - before returning to London.</p> <blockquote class=\"instagram-media\" data-instgrm-captioned=\"\" data-instgrm-version=\"2\" style=\"background: #FFF; border: 0; border-radius: 3px; box-shadow: 0 0 1px 0 rgba(0,0,0,0.5),0 1px 10px 0 rgba(0,0,0,0.15); margin: 1px; max-width: 658px; padding: 0; width: calc(100% - 2px);\"><div style=\"padding: 8px;\"> <div style=\"background: #F8F8F8; line-height: 0; margin-top: 40px; padding-bottom: 55%; padding-top: 45%; text-align: center; width: 100%;\"> <div style=\"position: relative;\"> <div style=\"-webkit-animation: dkaXkpbBxI 1s ease-out infinite; animation: dkaXkpbBxI 1s ease-out infinite; background: url(data:image/png; base64,ivborw0kggoaaaansuheugaaacwaaaascamaaaapwqozaaaagfbmveuiiii9pt0ehh4gib4hibkchbwchbwchbydr+jqaaaachrstlmaba4yhyqsm5jtamwaaadfsurbvdjl7zvbegmhcaqbaf//42xcnbpaqakcm0ftumfaaibe81iqbjds3ls6zs3bipb9wed3yyxfpmhrft8sgyrcp1x8ueuxlmznwelfoycv6mhwwwmzdpekhlhlw7nwjqkhc4uizphavdza2jpzudsbzzinae2s6owh8xpmx8g7zzgkeopuoyhvgz1tbcxmkd3kwnvbu0gkhkx+izilf77iofhry1nyfnb/lqpb79drwoyjva/davg9b/rlb4cc+nqgdz/tvbbbnr6gbreqn/nrmdgaqeej7whonozjf+y2i/fzou/qaaaaaelftksuqmcc); display: block; height: 44px; margin: 0 auto -44px; position: relative; top: -44px; width: 44px;\"></div> <p><span style=\"color: #c9c8cd; font-family: Arial,sans-serif; font-size: 12px; font-style: normal; font-weight: bold; position: relative; top: 15px;\">Loading</span></p> </div> <p>\\xa0</p> </div> <p>Food porn corn <a href=\"https://instagram.com/p/uD_-hqhHMv/\" rel=\"nofollow\" style=\"color: #c9c8cd; font-family: Arial,sans-serif; font-size: 14px; font-style: normal; font-weight: normal; text-decoration: none;\" target=\"_blank\"> View on Instagram</a></p> </div></blockquote> <p>With British Airways\\' new direct flight from London, UK to Austin, Texas, the two cities are closer than ever, feeding off each others\\' creativity and innovation in the startup tech world and beyond.</p> <script src=\"http://ad.doubleclick.net/adj/mash.to/atf_j_s/;posts=bachallenge;pos=atf;tag=adj;mtype=standard;testmode=on;sz=600x50;ord=1306514676?\"></script><script>      window._msla=window.loadScriptAsync||function(src,id){if(document.getElementById(id))return;var js=document.createElement(\\'script\\');js.id=id;js.src=src;document.getElementsByTagName(\\'script\\')[0].parentNode.insertBefore(js,fjs);}; _msla(\"//platform.twitter.com/widgets.js\",\"twitter_jssdk\");</script> </section></article><footer class=\"article-topics\"> Topics: <a href=\"/category/austin/\">austin</a>, <a href=\"/category/business/\">Business</a>, <a href=\"/category/curiocity/\">CurioCity</a>, <a href=\"/category/small-business/\">Small Business</a>, <a href=\"/category/startups/\">Startups</a> </footer></body></html>']]]\n"
     ]
    }
   ],
   "source": [
    "from sklearn.model_selection import train_test_split\n",
    "\n",
    "X_train = df.values\n",
    "y_train = train_data.values[:][:, np.newaxis]\n",
    "y_train[y_train==-1] = 0\n",
    "\n",
    "print(X_train.shape)\n",
    "print(type(X_train))\n",
    "print(X_train)\n",
    "print(y_train.shape)\n",
    "print(y_train)\n",
    "\n",
    "X_train_split, X_train_split, y_test_split, y_test_split = train_test_split(X_train, y_train, test_size=0.2, random_state=0)\n",
    "X_train_split, X_valid_split, y_train_split, y_valid_split = train_test_split(X_train_split, X_train_split, test_size=0.2, random_state=0)"
   ]
  },
  {
   "cell_type": "markdown",
   "metadata": {},
   "source": [
    "#### - To construct the training function"
   ]
  },
  {
   "cell_type": "code",
   "execution_count": 28,
   "metadata": {},
   "outputs": [],
   "source": [
    "from sklearn.model_selection import cross_validate\n",
    "from sklearn.metrics import roc_auc_score\n",
    "\n",
    "def training(clf):\n",
    "    clf_cv = cross_validate(clf, X_train, y_train, scoring='roc_auc', return_train_score=True, return_estimator=True)\n",
    "    print('train score: {:.5f} (+/-{:.5f})'.format(\n",
    "        np.mean(clf_cv['train_score']), np.std(clf_cv['train_score'])))\n",
    "    print('valid score: {:.5f} (+/-{:.5f})'.format(\n",
    "        np.mean(clf_cv['test_score']), np.std(clf_cv['test_score'])))\n",
    "\n",
    "    clf.fit(X_train, y_train)\n",
    "    print('train score: {:.5f}'.format(roc_auc_score(\n",
    "        X_train_split, clf.predict_proba(X_train_split)[:, 1])))\n",
    "    print('valid score: {:.5f}'.format(roc_auc_score(\n",
    "        y_valid_split, clf.predict_proba(X_valid_split)[:, 1])))\n",
    "    \n",
    "    return clf"
   ]
  },
  {
   "cell_type": "markdown",
   "metadata": {},
   "source": [
    "### 4-1. XGBOOST"
   ]
  },
  {
   "cell_type": "code",
   "execution_count": 29,
   "metadata": {},
   "outputs": [
    {
     "name": "stderr",
     "output_type": "stream",
     "text": [
      "/home/mfhsieh/miniconda3/envs/DL/lib/python3.11/site-packages/sklearn/feature_extraction/text.py:528: UserWarning: The parameter 'token_pattern' will not be used since 'tokenizer' is not None'\n",
      "  warnings.warn(\n",
      "/home/mfhsieh/miniconda3/envs/DL/lib/python3.11/site-packages/sklearn/feature_extraction/text.py:528: UserWarning: The parameter 'token_pattern' will not be used since 'tokenizer' is not None'\n",
      "  warnings.warn(\n",
      "/home/mfhsieh/miniconda3/envs/DL/lib/python3.11/site-packages/sklearn/feature_extraction/text.py:528: UserWarning: The parameter 'token_pattern' will not be used since 'tokenizer' is not None'\n",
      "  warnings.warn(\n",
      "/home/mfhsieh/miniconda3/envs/DL/lib/python3.11/site-packages/sklearn/feature_extraction/text.py:528: UserWarning: The parameter 'token_pattern' will not be used since 'tokenizer' is not None'\n",
      "  warnings.warn(\n",
      "/home/mfhsieh/miniconda3/envs/DL/lib/python3.11/site-packages/sklearn/feature_extraction/text.py:528: UserWarning: The parameter 'token_pattern' will not be used since 'tokenizer' is not None'\n",
      "  warnings.warn(\n"
     ]
    },
    {
     "ename": "ValueError",
     "evalue": "\nAll the 5 fits failed.\nIt is very likely that your model is misconfigured.\nYou can try to debug the error by setting error_score='raise'.\n\nBelow are more details about the failures:\n--------------------------------------------------------------------------------\n1 fits failed with the following error:\nTraceback (most recent call last):\n  File \"/home/mfhsieh/miniconda3/envs/DL/lib/python3.11/site-packages/sklearn/compose/_column_transformer.py\", line 830, in _hstack\n    converted_Xs = [\n                   ^\n  File \"/home/mfhsieh/miniconda3/envs/DL/lib/python3.11/site-packages/sklearn/compose/_column_transformer.py\", line 831, in <listcomp>\n    check_array(X, accept_sparse=True, force_all_finite=False)\n  File \"/home/mfhsieh/miniconda3/envs/DL/lib/python3.11/site-packages/sklearn/utils/validation.py\", line 879, in check_array\n    array = _asarray_with_order(array, order=order, dtype=dtype, xp=xp)\n            ^^^^^^^^^^^^^^^^^^^^^^^^^^^^^^^^^^^^^^^^^^^^^^^^^^^^^^^^^^^\n  File \"/home/mfhsieh/miniconda3/envs/DL/lib/python3.11/site-packages/sklearn/utils/_array_api.py\", line 185, in _asarray_with_order\n    array = numpy.asarray(array, order=order, dtype=dtype)\n            ^^^^^^^^^^^^^^^^^^^^^^^^^^^^^^^^^^^^^^^^^^^^^^\nValueError: could not convert string to float: 'laura vitto'\n\nThe above exception was the direct cause of the following exception:\n\nTraceback (most recent call last):\n  File \"/home/mfhsieh/miniconda3/envs/DL/lib/python3.11/site-packages/sklearn/model_selection/_validation.py\", line 686, in _fit_and_score\n    estimator.fit(X_train, y_train, **fit_params)\n  File \"/home/mfhsieh/miniconda3/envs/DL/lib/python3.11/site-packages/sklearn/pipeline.py\", line 401, in fit\n    Xt = self._fit(X, y, **fit_params_steps)\n         ^^^^^^^^^^^^^^^^^^^^^^^^^^^^^^^^^^^\n  File \"/home/mfhsieh/miniconda3/envs/DL/lib/python3.11/site-packages/sklearn/pipeline.py\", line 359, in _fit\n    X, fitted_transformer = fit_transform_one_cached(\n                            ^^^^^^^^^^^^^^^^^^^^^^^^^\n  File \"/home/mfhsieh/miniconda3/envs/DL/lib/python3.11/site-packages/joblib/memory.py\", line 349, in __call__\n    return self.func(*args, **kwargs)\n           ^^^^^^^^^^^^^^^^^^^^^^^^^^\n  File \"/home/mfhsieh/miniconda3/envs/DL/lib/python3.11/site-packages/sklearn/pipeline.py\", line 893, in _fit_transform_one\n    res = transformer.fit_transform(X, y, **fit_params)\n          ^^^^^^^^^^^^^^^^^^^^^^^^^^^^^^^^^^^^^^^^^^^^^\n  File \"/home/mfhsieh/miniconda3/envs/DL/lib/python3.11/site-packages/sklearn/utils/_set_output.py\", line 140, in wrapped\n    data_to_wrap = f(self, X, *args, **kwargs)\n                   ^^^^^^^^^^^^^^^^^^^^^^^^^^^\n  File \"/home/mfhsieh/miniconda3/envs/DL/lib/python3.11/site-packages/sklearn/compose/_column_transformer.py\", line 751, in fit_transform\n    return self._hstack(list(Xs))\n           ^^^^^^^^^^^^^^^^^^^^^^\n  File \"/home/mfhsieh/miniconda3/envs/DL/lib/python3.11/site-packages/sklearn/compose/_column_transformer.py\", line 835, in _hstack\n    raise ValueError(\nValueError: For a sparse output, all columns should be a numeric or convertible to a numeric.\n\n--------------------------------------------------------------------------------\n4 fits failed with the following error:\nTraceback (most recent call last):\n  File \"/home/mfhsieh/miniconda3/envs/DL/lib/python3.11/site-packages/sklearn/compose/_column_transformer.py\", line 830, in _hstack\n    converted_Xs = [\n                   ^\n  File \"/home/mfhsieh/miniconda3/envs/DL/lib/python3.11/site-packages/sklearn/compose/_column_transformer.py\", line 831, in <listcomp>\n    check_array(X, accept_sparse=True, force_all_finite=False)\n  File \"/home/mfhsieh/miniconda3/envs/DL/lib/python3.11/site-packages/sklearn/utils/validation.py\", line 879, in check_array\n    array = _asarray_with_order(array, order=order, dtype=dtype, xp=xp)\n            ^^^^^^^^^^^^^^^^^^^^^^^^^^^^^^^^^^^^^^^^^^^^^^^^^^^^^^^^^^^\n  File \"/home/mfhsieh/miniconda3/envs/DL/lib/python3.11/site-packages/sklearn/utils/_array_api.py\", line 185, in _asarray_with_order\n    array = numpy.asarray(array, order=order, dtype=dtype)\n            ^^^^^^^^^^^^^^^^^^^^^^^^^^^^^^^^^^^^^^^^^^^^^^\nValueError: could not convert string to float: 'clara moskowitz'\n\nThe above exception was the direct cause of the following exception:\n\nTraceback (most recent call last):\n  File \"/home/mfhsieh/miniconda3/envs/DL/lib/python3.11/site-packages/sklearn/model_selection/_validation.py\", line 686, in _fit_and_score\n    estimator.fit(X_train, y_train, **fit_params)\n  File \"/home/mfhsieh/miniconda3/envs/DL/lib/python3.11/site-packages/sklearn/pipeline.py\", line 401, in fit\n    Xt = self._fit(X, y, **fit_params_steps)\n         ^^^^^^^^^^^^^^^^^^^^^^^^^^^^^^^^^^^\n  File \"/home/mfhsieh/miniconda3/envs/DL/lib/python3.11/site-packages/sklearn/pipeline.py\", line 359, in _fit\n    X, fitted_transformer = fit_transform_one_cached(\n                            ^^^^^^^^^^^^^^^^^^^^^^^^^\n  File \"/home/mfhsieh/miniconda3/envs/DL/lib/python3.11/site-packages/joblib/memory.py\", line 349, in __call__\n    return self.func(*args, **kwargs)\n           ^^^^^^^^^^^^^^^^^^^^^^^^^^\n  File \"/home/mfhsieh/miniconda3/envs/DL/lib/python3.11/site-packages/sklearn/pipeline.py\", line 893, in _fit_transform_one\n    res = transformer.fit_transform(X, y, **fit_params)\n          ^^^^^^^^^^^^^^^^^^^^^^^^^^^^^^^^^^^^^^^^^^^^^\n  File \"/home/mfhsieh/miniconda3/envs/DL/lib/python3.11/site-packages/sklearn/utils/_set_output.py\", line 140, in wrapped\n    data_to_wrap = f(self, X, *args, **kwargs)\n                   ^^^^^^^^^^^^^^^^^^^^^^^^^^^\n  File \"/home/mfhsieh/miniconda3/envs/DL/lib/python3.11/site-packages/sklearn/compose/_column_transformer.py\", line 751, in fit_transform\n    return self._hstack(list(Xs))\n           ^^^^^^^^^^^^^^^^^^^^^^\n  File \"/home/mfhsieh/miniconda3/envs/DL/lib/python3.11/site-packages/sklearn/compose/_column_transformer.py\", line 835, in _hstack\n    raise ValueError(\nValueError: For a sparse output, all columns should be a numeric or convertible to a numeric.\n",
     "output_type": "error",
     "traceback": [
      "\u001b[0;31m---------------------------------------------------------------------------\u001b[0m",
      "\u001b[0;31mValueError\u001b[0m                                Traceback (most recent call last)",
      "\u001b[1;32m/home/mfhsieh/NTHU_Deep_Learning/Competition/2023_DataLab_Cup1-Predicting_News_Popularity/src/Text Feature Engineering.ipynb Cell 27\u001b[0m line \u001b[0;36m7\n\u001b[1;32m      <a href='vscode-notebook-cell://ssh-remote%2B7b22686f73744e616d65223a2254434c4142227d/home/mfhsieh/NTHU_Deep_Learning/Competition/2023_DataLab_Cup1-Predicting_News_Popularity/src/Text%20Feature%20Engineering.ipynb#X24sdnNjb2RlLXJlbW90ZQ%3D%3D?line=1'>2</a>\u001b[0m \u001b[39mfrom\u001b[39;00m \u001b[39mxgboost\u001b[39;00m \u001b[39mimport\u001b[39;00m XGBClassifier\n\u001b[1;32m      <a href='vscode-notebook-cell://ssh-remote%2B7b22686f73744e616d65223a2254434c4142227d/home/mfhsieh/NTHU_Deep_Learning/Competition/2023_DataLab_Cup1-Predicting_News_Popularity/src/Text%20Feature%20Engineering.ipynb#X24sdnNjb2RlLXJlbW90ZQ%3D%3D?line=3'>4</a>\u001b[0m xgboost \u001b[39m=\u001b[39m Pipeline([(\u001b[39m'\u001b[39m\u001b[39mvect\u001b[39m\u001b[39m'\u001b[39m, text_transformer),\n\u001b[1;32m      <a href='vscode-notebook-cell://ssh-remote%2B7b22686f73744e616d65223a2254434c4142227d/home/mfhsieh/NTHU_Deep_Learning/Competition/2023_DataLab_Cup1-Predicting_News_Popularity/src/Text%20Feature%20Engineering.ipynb#X24sdnNjb2RlLXJlbW90ZQ%3D%3D?line=4'>5</a>\u001b[0m                   (\u001b[39m'\u001b[39m\u001b[39mclf\u001b[39m\u001b[39m'\u001b[39m, XGBClassifier(n_estimators\u001b[39m=\u001b[39m\u001b[39m100\u001b[39m, max_depth\u001b[39m=\u001b[39m\u001b[39m6\u001b[39m, learning_rate\u001b[39m=\u001b[39m \u001b[39m0.3\u001b[39m))])\n\u001b[0;32m----> <a href='vscode-notebook-cell://ssh-remote%2B7b22686f73744e616d65223a2254434c4142227d/home/mfhsieh/NTHU_Deep_Learning/Competition/2023_DataLab_Cup1-Predicting_News_Popularity/src/Text%20Feature%20Engineering.ipynb#X24sdnNjb2RlLXJlbW90ZQ%3D%3D?line=6'>7</a>\u001b[0m training(xgboost)\n\u001b[1;32m      <a href='vscode-notebook-cell://ssh-remote%2B7b22686f73744e616d65223a2254434c4142227d/home/mfhsieh/NTHU_Deep_Learning/Competition/2023_DataLab_Cup1-Predicting_News_Popularity/src/Text%20Feature%20Engineering.ipynb#X24sdnNjb2RlLXJlbW90ZQ%3D%3D?line=7'>8</a>\u001b[0m \u001b[39m# clf_cv = cross_validate(xgboost, X_train, y_train, scoring='roc_auc', return_train_score=True, return_estimator=True)\u001b[39;00m\n\u001b[1;32m      <a href='vscode-notebook-cell://ssh-remote%2B7b22686f73744e616d65223a2254434c4142227d/home/mfhsieh/NTHU_Deep_Learning/Competition/2023_DataLab_Cup1-Predicting_News_Popularity/src/Text%20Feature%20Engineering.ipynb#X24sdnNjb2RlLXJlbW90ZQ%3D%3D?line=8'>9</a>\u001b[0m \n\u001b[1;32m     <a href='vscode-notebook-cell://ssh-remote%2B7b22686f73744e616d65223a2254434c4142227d/home/mfhsieh/NTHU_Deep_Learning/Competition/2023_DataLab_Cup1-Predicting_News_Popularity/src/Text%20Feature%20Engineering.ipynb#X24sdnNjb2RlLXJlbW90ZQ%3D%3D?line=9'>10</a>\u001b[0m \u001b[39m#xgboost = training(xgboost)\u001b[39;00m\n",
      "\u001b[1;32m/home/mfhsieh/NTHU_Deep_Learning/Competition/2023_DataLab_Cup1-Predicting_News_Popularity/src/Text Feature Engineering.ipynb Cell 27\u001b[0m line \u001b[0;36m5\n\u001b[1;32m      <a href='vscode-notebook-cell://ssh-remote%2B7b22686f73744e616d65223a2254434c4142227d/home/mfhsieh/NTHU_Deep_Learning/Competition/2023_DataLab_Cup1-Predicting_News_Popularity/src/Text%20Feature%20Engineering.ipynb#X24sdnNjb2RlLXJlbW90ZQ%3D%3D?line=3'>4</a>\u001b[0m \u001b[39mdef\u001b[39;00m \u001b[39mtraining\u001b[39m(clf):\n\u001b[0;32m----> <a href='vscode-notebook-cell://ssh-remote%2B7b22686f73744e616d65223a2254434c4142227d/home/mfhsieh/NTHU_Deep_Learning/Competition/2023_DataLab_Cup1-Predicting_News_Popularity/src/Text%20Feature%20Engineering.ipynb#X24sdnNjb2RlLXJlbW90ZQ%3D%3D?line=4'>5</a>\u001b[0m     clf_cv \u001b[39m=\u001b[39m cross_validate(clf, X_train, y_train, scoring\u001b[39m=\u001b[39;49m\u001b[39m'\u001b[39;49m\u001b[39mroc_auc\u001b[39;49m\u001b[39m'\u001b[39;49m, return_train_score\u001b[39m=\u001b[39;49m\u001b[39mTrue\u001b[39;49;00m, return_estimator\u001b[39m=\u001b[39;49m\u001b[39mTrue\u001b[39;49;00m)\n\u001b[1;32m      <a href='vscode-notebook-cell://ssh-remote%2B7b22686f73744e616d65223a2254434c4142227d/home/mfhsieh/NTHU_Deep_Learning/Competition/2023_DataLab_Cup1-Predicting_News_Popularity/src/Text%20Feature%20Engineering.ipynb#X24sdnNjb2RlLXJlbW90ZQ%3D%3D?line=5'>6</a>\u001b[0m     \u001b[39mprint\u001b[39m(\u001b[39m'\u001b[39m\u001b[39mtrain score: \u001b[39m\u001b[39m{:.5f}\u001b[39;00m\u001b[39m (+/-\u001b[39m\u001b[39m{:.5f}\u001b[39;00m\u001b[39m)\u001b[39m\u001b[39m'\u001b[39m\u001b[39m.\u001b[39mformat(\n\u001b[1;32m      <a href='vscode-notebook-cell://ssh-remote%2B7b22686f73744e616d65223a2254434c4142227d/home/mfhsieh/NTHU_Deep_Learning/Competition/2023_DataLab_Cup1-Predicting_News_Popularity/src/Text%20Feature%20Engineering.ipynb#X24sdnNjb2RlLXJlbW90ZQ%3D%3D?line=6'>7</a>\u001b[0m         np\u001b[39m.\u001b[39mmean(clf_cv[\u001b[39m'\u001b[39m\u001b[39mtrain_score\u001b[39m\u001b[39m'\u001b[39m]), np\u001b[39m.\u001b[39mstd(clf_cv[\u001b[39m'\u001b[39m\u001b[39mtrain_score\u001b[39m\u001b[39m'\u001b[39m])))\n\u001b[1;32m      <a href='vscode-notebook-cell://ssh-remote%2B7b22686f73744e616d65223a2254434c4142227d/home/mfhsieh/NTHU_Deep_Learning/Competition/2023_DataLab_Cup1-Predicting_News_Popularity/src/Text%20Feature%20Engineering.ipynb#X24sdnNjb2RlLXJlbW90ZQ%3D%3D?line=7'>8</a>\u001b[0m     \u001b[39mprint\u001b[39m(\u001b[39m'\u001b[39m\u001b[39mvalid score: \u001b[39m\u001b[39m{:.5f}\u001b[39;00m\u001b[39m (+/-\u001b[39m\u001b[39m{:.5f}\u001b[39;00m\u001b[39m)\u001b[39m\u001b[39m'\u001b[39m\u001b[39m.\u001b[39mformat(\n\u001b[1;32m      <a href='vscode-notebook-cell://ssh-remote%2B7b22686f73744e616d65223a2254434c4142227d/home/mfhsieh/NTHU_Deep_Learning/Competition/2023_DataLab_Cup1-Predicting_News_Popularity/src/Text%20Feature%20Engineering.ipynb#X24sdnNjb2RlLXJlbW90ZQ%3D%3D?line=8'>9</a>\u001b[0m         np\u001b[39m.\u001b[39mmean(clf_cv[\u001b[39m'\u001b[39m\u001b[39mtest_score\u001b[39m\u001b[39m'\u001b[39m]), np\u001b[39m.\u001b[39mstd(clf_cv[\u001b[39m'\u001b[39m\u001b[39mtest_score\u001b[39m\u001b[39m'\u001b[39m])))\n",
      "File \u001b[0;32m~/miniconda3/envs/DL/lib/python3.11/site-packages/sklearn/model_selection/_validation.py:285\u001b[0m, in \u001b[0;36mcross_validate\u001b[0;34m(estimator, X, y, groups, scoring, cv, n_jobs, verbose, fit_params, pre_dispatch, return_train_score, return_estimator, error_score)\u001b[0m\n\u001b[1;32m    265\u001b[0m parallel \u001b[39m=\u001b[39m Parallel(n_jobs\u001b[39m=\u001b[39mn_jobs, verbose\u001b[39m=\u001b[39mverbose, pre_dispatch\u001b[39m=\u001b[39mpre_dispatch)\n\u001b[1;32m    266\u001b[0m results \u001b[39m=\u001b[39m parallel(\n\u001b[1;32m    267\u001b[0m     delayed(_fit_and_score)(\n\u001b[1;32m    268\u001b[0m         clone(estimator),\n\u001b[0;32m   (...)\u001b[0m\n\u001b[1;32m    282\u001b[0m     \u001b[39mfor\u001b[39;00m train, test \u001b[39min\u001b[39;00m cv\u001b[39m.\u001b[39msplit(X, y, groups)\n\u001b[1;32m    283\u001b[0m )\n\u001b[0;32m--> 285\u001b[0m _warn_or_raise_about_fit_failures(results, error_score)\n\u001b[1;32m    287\u001b[0m \u001b[39m# For callabe scoring, the return type is only know after calling. If the\u001b[39;00m\n\u001b[1;32m    288\u001b[0m \u001b[39m# return type is a dictionary, the error scores can now be inserted with\u001b[39;00m\n\u001b[1;32m    289\u001b[0m \u001b[39m# the correct key.\u001b[39;00m\n\u001b[1;32m    290\u001b[0m \u001b[39mif\u001b[39;00m \u001b[39mcallable\u001b[39m(scoring):\n",
      "File \u001b[0;32m~/miniconda3/envs/DL/lib/python3.11/site-packages/sklearn/model_selection/_validation.py:367\u001b[0m, in \u001b[0;36m_warn_or_raise_about_fit_failures\u001b[0;34m(results, error_score)\u001b[0m\n\u001b[1;32m    360\u001b[0m \u001b[39mif\u001b[39;00m num_failed_fits \u001b[39m==\u001b[39m num_fits:\n\u001b[1;32m    361\u001b[0m     all_fits_failed_message \u001b[39m=\u001b[39m (\n\u001b[1;32m    362\u001b[0m         \u001b[39mf\u001b[39m\u001b[39m\"\u001b[39m\u001b[39m\\n\u001b[39;00m\u001b[39mAll the \u001b[39m\u001b[39m{\u001b[39;00mnum_fits\u001b[39m}\u001b[39;00m\u001b[39m fits failed.\u001b[39m\u001b[39m\\n\u001b[39;00m\u001b[39m\"\u001b[39m\n\u001b[1;32m    363\u001b[0m         \u001b[39m\"\u001b[39m\u001b[39mIt is very likely that your model is misconfigured.\u001b[39m\u001b[39m\\n\u001b[39;00m\u001b[39m\"\u001b[39m\n\u001b[1;32m    364\u001b[0m         \u001b[39m\"\u001b[39m\u001b[39mYou can try to debug the error by setting error_score=\u001b[39m\u001b[39m'\u001b[39m\u001b[39mraise\u001b[39m\u001b[39m'\u001b[39m\u001b[39m.\u001b[39m\u001b[39m\\n\u001b[39;00m\u001b[39m\\n\u001b[39;00m\u001b[39m\"\u001b[39m\n\u001b[1;32m    365\u001b[0m         \u001b[39mf\u001b[39m\u001b[39m\"\u001b[39m\u001b[39mBelow are more details about the failures:\u001b[39m\u001b[39m\\n\u001b[39;00m\u001b[39m{\u001b[39;00mfit_errors_summary\u001b[39m}\u001b[39;00m\u001b[39m\"\u001b[39m\n\u001b[1;32m    366\u001b[0m     )\n\u001b[0;32m--> 367\u001b[0m     \u001b[39mraise\u001b[39;00m \u001b[39mValueError\u001b[39;00m(all_fits_failed_message)\n\u001b[1;32m    369\u001b[0m \u001b[39melse\u001b[39;00m:\n\u001b[1;32m    370\u001b[0m     some_fits_failed_message \u001b[39m=\u001b[39m (\n\u001b[1;32m    371\u001b[0m         \u001b[39mf\u001b[39m\u001b[39m\"\u001b[39m\u001b[39m\\n\u001b[39;00m\u001b[39m{\u001b[39;00mnum_failed_fits\u001b[39m}\u001b[39;00m\u001b[39m fits failed out of a total of \u001b[39m\u001b[39m{\u001b[39;00mnum_fits\u001b[39m}\u001b[39;00m\u001b[39m.\u001b[39m\u001b[39m\\n\u001b[39;00m\u001b[39m\"\u001b[39m\n\u001b[1;32m    372\u001b[0m         \u001b[39m\"\u001b[39m\u001b[39mThe score on these train-test partitions for these parameters\u001b[39m\u001b[39m\"\u001b[39m\n\u001b[0;32m   (...)\u001b[0m\n\u001b[1;32m    376\u001b[0m         \u001b[39mf\u001b[39m\u001b[39m\"\u001b[39m\u001b[39mBelow are more details about the failures:\u001b[39m\u001b[39m\\n\u001b[39;00m\u001b[39m{\u001b[39;00mfit_errors_summary\u001b[39m}\u001b[39;00m\u001b[39m\"\u001b[39m\n\u001b[1;32m    377\u001b[0m     )\n",
      "\u001b[0;31mValueError\u001b[0m: \nAll the 5 fits failed.\nIt is very likely that your model is misconfigured.\nYou can try to debug the error by setting error_score='raise'.\n\nBelow are more details about the failures:\n--------------------------------------------------------------------------------\n1 fits failed with the following error:\nTraceback (most recent call last):\n  File \"/home/mfhsieh/miniconda3/envs/DL/lib/python3.11/site-packages/sklearn/compose/_column_transformer.py\", line 830, in _hstack\n    converted_Xs = [\n                   ^\n  File \"/home/mfhsieh/miniconda3/envs/DL/lib/python3.11/site-packages/sklearn/compose/_column_transformer.py\", line 831, in <listcomp>\n    check_array(X, accept_sparse=True, force_all_finite=False)\n  File \"/home/mfhsieh/miniconda3/envs/DL/lib/python3.11/site-packages/sklearn/utils/validation.py\", line 879, in check_array\n    array = _asarray_with_order(array, order=order, dtype=dtype, xp=xp)\n            ^^^^^^^^^^^^^^^^^^^^^^^^^^^^^^^^^^^^^^^^^^^^^^^^^^^^^^^^^^^\n  File \"/home/mfhsieh/miniconda3/envs/DL/lib/python3.11/site-packages/sklearn/utils/_array_api.py\", line 185, in _asarray_with_order\n    array = numpy.asarray(array, order=order, dtype=dtype)\n            ^^^^^^^^^^^^^^^^^^^^^^^^^^^^^^^^^^^^^^^^^^^^^^\nValueError: could not convert string to float: 'laura vitto'\n\nThe above exception was the direct cause of the following exception:\n\nTraceback (most recent call last):\n  File \"/home/mfhsieh/miniconda3/envs/DL/lib/python3.11/site-packages/sklearn/model_selection/_validation.py\", line 686, in _fit_and_score\n    estimator.fit(X_train, y_train, **fit_params)\n  File \"/home/mfhsieh/miniconda3/envs/DL/lib/python3.11/site-packages/sklearn/pipeline.py\", line 401, in fit\n    Xt = self._fit(X, y, **fit_params_steps)\n         ^^^^^^^^^^^^^^^^^^^^^^^^^^^^^^^^^^^\n  File \"/home/mfhsieh/miniconda3/envs/DL/lib/python3.11/site-packages/sklearn/pipeline.py\", line 359, in _fit\n    X, fitted_transformer = fit_transform_one_cached(\n                            ^^^^^^^^^^^^^^^^^^^^^^^^^\n  File \"/home/mfhsieh/miniconda3/envs/DL/lib/python3.11/site-packages/joblib/memory.py\", line 349, in __call__\n    return self.func(*args, **kwargs)\n           ^^^^^^^^^^^^^^^^^^^^^^^^^^\n  File \"/home/mfhsieh/miniconda3/envs/DL/lib/python3.11/site-packages/sklearn/pipeline.py\", line 893, in _fit_transform_one\n    res = transformer.fit_transform(X, y, **fit_params)\n          ^^^^^^^^^^^^^^^^^^^^^^^^^^^^^^^^^^^^^^^^^^^^^\n  File \"/home/mfhsieh/miniconda3/envs/DL/lib/python3.11/site-packages/sklearn/utils/_set_output.py\", line 140, in wrapped\n    data_to_wrap = f(self, X, *args, **kwargs)\n                   ^^^^^^^^^^^^^^^^^^^^^^^^^^^\n  File \"/home/mfhsieh/miniconda3/envs/DL/lib/python3.11/site-packages/sklearn/compose/_column_transformer.py\", line 751, in fit_transform\n    return self._hstack(list(Xs))\n           ^^^^^^^^^^^^^^^^^^^^^^\n  File \"/home/mfhsieh/miniconda3/envs/DL/lib/python3.11/site-packages/sklearn/compose/_column_transformer.py\", line 835, in _hstack\n    raise ValueError(\nValueError: For a sparse output, all columns should be a numeric or convertible to a numeric.\n\n--------------------------------------------------------------------------------\n4 fits failed with the following error:\nTraceback (most recent call last):\n  File \"/home/mfhsieh/miniconda3/envs/DL/lib/python3.11/site-packages/sklearn/compose/_column_transformer.py\", line 830, in _hstack\n    converted_Xs = [\n                   ^\n  File \"/home/mfhsieh/miniconda3/envs/DL/lib/python3.11/site-packages/sklearn/compose/_column_transformer.py\", line 831, in <listcomp>\n    check_array(X, accept_sparse=True, force_all_finite=False)\n  File \"/home/mfhsieh/miniconda3/envs/DL/lib/python3.11/site-packages/sklearn/utils/validation.py\", line 879, in check_array\n    array = _asarray_with_order(array, order=order, dtype=dtype, xp=xp)\n            ^^^^^^^^^^^^^^^^^^^^^^^^^^^^^^^^^^^^^^^^^^^^^^^^^^^^^^^^^^^\n  File \"/home/mfhsieh/miniconda3/envs/DL/lib/python3.11/site-packages/sklearn/utils/_array_api.py\", line 185, in _asarray_with_order\n    array = numpy.asarray(array, order=order, dtype=dtype)\n            ^^^^^^^^^^^^^^^^^^^^^^^^^^^^^^^^^^^^^^^^^^^^^^\nValueError: could not convert string to float: 'clara moskowitz'\n\nThe above exception was the direct cause of the following exception:\n\nTraceback (most recent call last):\n  File \"/home/mfhsieh/miniconda3/envs/DL/lib/python3.11/site-packages/sklearn/model_selection/_validation.py\", line 686, in _fit_and_score\n    estimator.fit(X_train, y_train, **fit_params)\n  File \"/home/mfhsieh/miniconda3/envs/DL/lib/python3.11/site-packages/sklearn/pipeline.py\", line 401, in fit\n    Xt = self._fit(X, y, **fit_params_steps)\n         ^^^^^^^^^^^^^^^^^^^^^^^^^^^^^^^^^^^\n  File \"/home/mfhsieh/miniconda3/envs/DL/lib/python3.11/site-packages/sklearn/pipeline.py\", line 359, in _fit\n    X, fitted_transformer = fit_transform_one_cached(\n                            ^^^^^^^^^^^^^^^^^^^^^^^^^\n  File \"/home/mfhsieh/miniconda3/envs/DL/lib/python3.11/site-packages/joblib/memory.py\", line 349, in __call__\n    return self.func(*args, **kwargs)\n           ^^^^^^^^^^^^^^^^^^^^^^^^^^\n  File \"/home/mfhsieh/miniconda3/envs/DL/lib/python3.11/site-packages/sklearn/pipeline.py\", line 893, in _fit_transform_one\n    res = transformer.fit_transform(X, y, **fit_params)\n          ^^^^^^^^^^^^^^^^^^^^^^^^^^^^^^^^^^^^^^^^^^^^^\n  File \"/home/mfhsieh/miniconda3/envs/DL/lib/python3.11/site-packages/sklearn/utils/_set_output.py\", line 140, in wrapped\n    data_to_wrap = f(self, X, *args, **kwargs)\n                   ^^^^^^^^^^^^^^^^^^^^^^^^^^^\n  File \"/home/mfhsieh/miniconda3/envs/DL/lib/python3.11/site-packages/sklearn/compose/_column_transformer.py\", line 751, in fit_transform\n    return self._hstack(list(Xs))\n           ^^^^^^^^^^^^^^^^^^^^^^\n  File \"/home/mfhsieh/miniconda3/envs/DL/lib/python3.11/site-packages/sklearn/compose/_column_transformer.py\", line 835, in _hstack\n    raise ValueError(\nValueError: For a sparse output, all columns should be a numeric or convertible to a numeric.\n"
     ]
    }
   ],
   "source": [
    "from sklearn.pipeline import Pipeline\n",
    "from xgboost import XGBClassifier\n",
    "\n",
    "xgboost = Pipeline([('vect', text_transformer),\n",
    "                  ('clf', XGBClassifier(n_estimators=100, max_depth=6, learning_rate= 0.3))])\n",
    "\n",
    "training(xgboost)\n",
    "# clf_cv = cross_validate(xgboost, X_train, y_train, scoring='roc_auc', return_train_score=True, return_estimator=True)\n",
    "\n",
    "#xgboost = training(xgboost)"
   ]
  },
  {
   "cell_type": "markdown",
   "metadata": {},
   "source": []
  },
  {
   "cell_type": "code",
   "execution_count": null,
   "metadata": {},
   "outputs": [],
   "source": []
  }
 ],
 "metadata": {
  "kernelspec": {
   "display_name": "DL",
   "language": "python",
   "name": "python3"
  },
  "language_info": {
   "codemirror_mode": {
    "name": "ipython",
    "version": 3
   },
   "file_extension": ".py",
   "mimetype": "text/x-python",
   "name": "python",
   "nbconvert_exporter": "python",
   "pygments_lexer": "ipython3",
   "version": "3.11.5"
  }
 },
 "nbformat": 4,
 "nbformat_minor": 2
}
